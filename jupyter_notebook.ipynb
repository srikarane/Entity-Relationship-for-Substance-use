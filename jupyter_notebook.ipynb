{
 "cells": [
  {
   "cell_type": "markdown",
   "metadata": {
    "id": "UZw_CseJe_DN"
   },
   "source": [
    "## Processing Raw Brat files\n",
    "Reads Brat format files and convert to a dictionary containing text, entity_list and role list (consisting of id, offset, category, span text), relation labels with entity id and role id mappings.\n",
    "\n",
    "##Dataset Exploratory Analysis:\n",
    "\n",
    "\n",
    "1.\tEach entity is associated with at least one or multiple roles.\n",
    "2.\tTailored to dataset entities are marked only if there is any role attached to it.\n",
    "3.  A role may be associated with 0 or more entities.\n",
    "4.\tA word/span can be both entity and role and can be related to itself at the same time.\n",
    "5.   Some of the stopwords and punctuations are also included in the spans of entities and roles.\n",
    "6.  Significance of overlap has been seen between the roles: Status, Method, Type, Amount.\n",
    "7.  Significance overlap has been seen between the entities: LivingSItuation, Family, Marital Status, and Residence.\n",
    "8.  Some words are overlapping between entities and roles with depths >=2.\n",
    "9. 27 of files have missing annotations.\n",
    "10. Total files present are 364 and we have processed 337 leaving the empty annotations.\n",
    "\n",
    "Running procedure:\n",
    "Provide the file directory which has raw files of annotations and text in annotation file dir and give the save path in generic_format_file_path for processed data and perform run all.\n",
    "\n",
    "\n",
    "annotation_file_dir = '/content/drive/MyDrive/PHD_assessment_gmu/SocialHistoryMTSamples/'\n",
    "generic_format_file_path='/content/drive/MyDrive/PHD_assessment_gmu/SocialHistoryMTSamples.json'"
   ]
  },
  {
   "cell_type": "code",
   "execution_count": null,
   "metadata": {
    "colab": {
     "base_uri": "https://localhost:8080/"
    },
    "executionInfo": {
     "elapsed": 2173,
     "status": "ok",
     "timestamp": 1707079961109,
     "user": {
      "displayName": "srikaran elakurthy",
      "userId": "10476685350926501647"
     },
     "user_tz": 300
    },
    "id": "32fYVn35MjAf",
    "outputId": "803031a3-7e77-44e5-a539-3da71c2a8cca"
   },
   "outputs": [
    {
     "name": "stderr",
     "output_type": "stream",
     "text": [
      "[nltk_data] Downloading package punkt to /root/nltk_data...\n",
      "[nltk_data]   Unzipping tokenizers/punkt.zip.\n"
     ]
    },
    {
     "data": {
      "text/plain": [
       "True"
      ]
     },
     "execution_count": 8,
     "metadata": {},
     "output_type": "execute_result"
    }
   ],
   "source": [
    "import os\n",
    "import pandas as pd\n",
    "from itertools import chain\n",
    "import nltk\n",
    "from nltk.tokenize import word_tokenize\n",
    "nltk.download('punkt')"
   ]
  },
  {
   "cell_type": "code",
   "execution_count": null,
   "metadata": {
    "id": "3ZhXoxekxgew"
   },
   "outputs": [],
   "source": [
    "import collections\n",
    "import json\n"
   ]
  },
  {
   "cell_type": "code",
   "execution_count": null,
   "metadata": {
    "id": "x_DXtYz6ODJD"
   },
   "outputs": [],
   "source": [
    "annotation_file_dir = '/content/drive/MyDrive/PHD_assessment_gmu/data/raw_files/SocialHistoryMTSamples/'\n",
    "generic_format_file_path='/content/drive/MyDrive/PHD_assessment_gmu/data/proceSocialHistoryMTSamples.json'"
   ]
  },
  {
   "cell_type": "code",
   "execution_count": null,
   "metadata": {
    "colab": {
     "base_uri": "https://localhost:8080/"
    },
    "executionInfo": {
     "elapsed": 22655,
     "status": "ok",
     "timestamp": 1705606537338,
     "user": {
      "displayName": "srikaran elakurthy",
      "userId": "10476685350926501647"
     },
     "user_tz": 300
    },
    "id": "8qq8xNKDk0_b",
    "outputId": "84b8fe96-0d6a-4f0d-976d-ccea244fc07a"
   },
   "outputs": [
    {
     "name": "stdout",
     "output_type": "stream",
     "text": [
      "All files have annotations\n",
      "Empty file\n",
      "Empty file\n",
      "Empty file\n",
      "Empty file\n",
      "Empty file\n",
      "Empty file\n",
      "Empty file\n",
      "Empty file\n",
      "Empty file\n",
      "Empty file\n",
      "Empty file\n",
      "Empty file\n",
      "Empty file\n",
      "Empty file\n",
      "Empty file\n",
      "Empty file\n",
      "Empty file\n",
      "Empty file\n",
      "Empty file\n",
      "Empty file\n",
      "Empty file\n",
      "Empty file\n",
      "Empty file\n",
      "Empty file\n",
      "Empty file\n",
      "Empty file\n",
      "Empty file\n",
      "Invalid Annotation\n",
      "174_Consult-HistoryandPhy.-FlankPain-Consult_8.ann\n",
      "\n",
      "\n",
      "['#1', 'AnnotatorNotes T5', 'Denies \"abuse\" vs. Denies \"use\" - no way to specify this in status...']\n",
      "\n",
      "\n"
     ]
    }
   ],
   "source": [
    "# Given the file paths of the uploaded files, let's read and structure the data.\n",
    "\n",
    "def read_brat_text_file(file_path):\n",
    "    \"\"\"\n",
    "    Reads a text file and returns its content.\n",
    "    \"\"\"\n",
    "    with open(file_path, 'r', encoding='utf-8') as file:\n",
    "        return file.read()\n",
    "\n",
    "def read_brat_annotation_file(file_dir,file_name):\n",
    "    \"\"\"\n",
    "    Reads a BRAT standoff annotation file and returns its content in a structured format.\n",
    "    \"\"\"\n",
    "    entity_list=[]\n",
    "    role_list=[]\n",
    "    events_list=[]\n",
    "    attributes_list=[]\n",
    "    #Checking if the file is empty or not:\n",
    "    file_path=file_dir+file_name\n",
    "    if os.stat(file_path).st_size == 0:\n",
    "      print(\"Empty file\")\n",
    "      return [],[],[],[],\"Empty file\"\n",
    "    #Reading the file:\n",
    "    with open(file_path, 'r', encoding='utf-8') as file:\n",
    "        for line in file:\n",
    "            parts = line.strip().split('\\t')\n",
    "            if parts[0].startswith('T'):\n",
    "              #Entity_type and role extraction:\n",
    "              entity_info=parts[1].split(' ')\n",
    "              entity_category=entity_info[0]\n",
    "              if entity_category in [\"Status\", \"Type\", \"Temporal\", \"Method\", \"Amount\", \"Frequency\", \"History\", \"ExposureHistory\", \"QuitHistory\", \"LivingStatus\", \"MedicalCondition\", \"Location\", \"Extent\",\"Other\"]:\n",
    "                role_list.append({'role_id':int(parts[0][1:]),'entity_type':\"Role\",'entity_category':entity_info[0],'entity_strt_pos':entity_info[1],'entity_end_pos':entity_info[2],'entity_text':parts[2]})\n",
    "              else:\n",
    "                entity_list.append({'entity_id':int(parts[0][1:]),'entity_type':\"Entity\",'entity_category':entity_info[0],'entity_strt_pos':entity_info[1],'entity_end_pos':entity_info[2],'entity_text':parts[2]})\n",
    "            elif parts[0].startswith('E'):\n",
    "              #Relations extraction:\n",
    "              event_level=[]\n",
    "              relations_lst_raw=parts[1].split(' ')\n",
    "              primary_entity_id=int(relations_lst_raw[0].split(':T')[1])\n",
    "              for i in range(1,len(relations_lst_raw)):\n",
    "                event_level.append(int(relations_lst_raw[i].split(':T')[1]))\n",
    "              events_list.append({'Event_id':int(parts[0][1:]),'entity_id':primary_entity_id,'Related_roles':event_level})\n",
    "\n",
    "            elif parts[0].startswith('A'):\n",
    "              #Attributes extraction:\n",
    "              if parts[1].split(' ')[0]=='Value':\n",
    "                attributes_list.append({'Attribute_id':int(parts[0][1:]),'Attribute_type':parts[1].split(' ')[0],'Role_id':int(parts[1].split(' ')[1][1:]),'Attribute_value':parts[1].split(' ')[2]})\n",
    "              else:\n",
    "                print('Invalid Attribute')\n",
    "                print('\\n')\n",
    "                print(file_name)\n",
    "                print('\\n')\n",
    "                print(parts)\n",
    "                print('\\n')\n",
    "            else:\n",
    "              print('Invalid Annotation')\n",
    "              print(file_name)\n",
    "              print('\\n')\n",
    "              print(parts)\n",
    "              print('\\n')\n",
    "\n",
    "    return entity_list, role_list, events_list, attributes_list, \"Success\"\n",
    "\n",
    "def read_brat_annotation_folder(annotation_file_dir,ignore_missing_annotations=True):\n",
    "  ann_files = [f[:-4] for f in os.listdir(annotation_file_dir) if f.endswith('.ann')]\n",
    "  txt_files = [f[:-4] for f in os.listdir(annotation_file_dir) if f.endswith('.txt')]\n",
    "  #Checking any text files in the directory doesnt have the corresponding annotations.\n",
    "  file_difference=set(txt_files)-set(ann_files)\n",
    "  if len(file_difference)>0:\n",
    "    print(\"The following files are missing annotations:\")\n",
    "    print(file_difference)\n",
    "  else:\n",
    "    print(\"All files have annotations\")\n",
    "  if ignore_missing_annotations:\n",
    "    data_inp_lst=[]\n",
    "    empty_files=[]\n",
    "    empty_entities=[]\n",
    "    empty_roles=[]\n",
    "    empty_events=[]\n",
    "    empty_attributes=[]\n",
    "    for ann_file_name in ann_files:\n",
    "      text_file_path = annotation_file_dir+ann_file_name+'.txt'\n",
    "      annotation_file_name = ann_file_name+'.ann'\n",
    "      ann_entity_list,ann_role_list,ann_events_list, ann_attributes_list,status = read_brat_annotation_file(annotation_file_dir,annotation_file_name)\n",
    "      if status == \"Empty file\":\n",
    "        empty_files.append(ann_file_name)\n",
    "      else:\n",
    "        if len(ann_entity_list)==0:\n",
    "          empty_entities.append(ann_file_name)\n",
    "        if len(ann_role_list)==0:\n",
    "          empty_roles.append(ann_file_name)\n",
    "        if len(ann_events_list)==0:\n",
    "          empty_events.append(ann_file_name)\n",
    "        if len(ann_attributes_list)==0:\n",
    "          empty_attributes.append(ann_file_name)\n",
    "        text_content = read_brat_text_file(text_file_path)\n",
    "        data_inp_lst.append({\n",
    "                  'text': text_content,\n",
    "                  'entity_list': ann_entity_list,\n",
    "                  'role_list': ann_role_list,\n",
    "                  'events_list': ann_events_list,\n",
    "                  'attributes_list': ann_attributes_list,\n",
    "                  'file_name': ann_file_name\n",
    "                  })\n",
    "  return data_inp_lst, empty_files, empty_entities, empty_roles, empty_events, empty_attributes\n",
    "\n",
    "\n",
    "annotated_data, empty_files, empty_entities, empty_roles, empty_events, empty_attributes=read_brat_annotation_folder(annotation_file_dir)\n",
    "\n"
   ]
  },
  {
   "cell_type": "code",
   "execution_count": null,
   "metadata": {
    "colab": {
     "base_uri": "https://localhost:8080/"
    },
    "executionInfo": {
     "elapsed": 21,
     "status": "ok",
     "timestamp": 1705606537339,
     "user": {
      "displayName": "srikaran elakurthy",
      "userId": "10476685350926501647"
     },
     "user_tz": 300
    },
    "id": "nxjd6A0_Fzps",
    "outputId": "1977b202-9ccd-483d-d72e-2df00ee7540f"
   },
   "outputs": [
    {
     "data": {
      "text/plain": [
       "27"
      ]
     },
     "execution_count": 5,
     "metadata": {},
     "output_type": "execute_result"
    }
   ],
   "source": [
    "len(empty_files)"
   ]
  },
  {
   "cell_type": "code",
   "execution_count": null,
   "metadata": {
    "colab": {
     "base_uri": "https://localhost:8080/"
    },
    "executionInfo": {
     "elapsed": 19,
     "status": "ok",
     "timestamp": 1705606537339,
     "user": {
      "displayName": "srikaran elakurthy",
      "userId": "10476685350926501647"
     },
     "user_tz": 300
    },
    "id": "QxjAdp8tF4HH",
    "outputId": "8ef6dcf9-8e68-40e0-8fa6-645eb9e4afc6"
   },
   "outputs": [
    {
     "data": {
      "text/plain": [
       "[]"
      ]
     },
     "execution_count": 6,
     "metadata": {},
     "output_type": "execute_result"
    }
   ],
   "source": [
    "empty_entities"
   ]
  },
  {
   "cell_type": "code",
   "execution_count": null,
   "metadata": {
    "colab": {
     "base_uri": "https://localhost:8080/"
    },
    "executionInfo": {
     "elapsed": 15,
     "status": "ok",
     "timestamp": 1705606537339,
     "user": {
      "displayName": "srikaran elakurthy",
      "userId": "10476685350926501647"
     },
     "user_tz": 300
    },
    "id": "gWcUw472F93K",
    "outputId": "107815bd-b748-4b19-8755-d9162b15adfa"
   },
   "outputs": [
    {
     "data": {
      "text/plain": [
       "[]"
      ]
     },
     "execution_count": 7,
     "metadata": {},
     "output_type": "execute_result"
    }
   ],
   "source": [
    "empty_roles"
   ]
  },
  {
   "cell_type": "code",
   "execution_count": null,
   "metadata": {
    "colab": {
     "base_uri": "https://localhost:8080/"
    },
    "executionInfo": {
     "elapsed": 12,
     "status": "ok",
     "timestamp": 1705606537339,
     "user": {
      "displayName": "srikaran elakurthy",
      "userId": "10476685350926501647"
     },
     "user_tz": 300
    },
    "id": "lyN-JQspGD_s",
    "outputId": "01b21513-1fb6-4d49-9595-1069a4662839"
   },
   "outputs": [
    {
     "data": {
      "text/plain": [
       "[]"
      ]
     },
     "execution_count": 8,
     "metadata": {},
     "output_type": "execute_result"
    }
   ],
   "source": [
    "empty_events"
   ]
  },
  {
   "cell_type": "code",
   "execution_count": null,
   "metadata": {
    "colab": {
     "base_uri": "https://localhost:8080/"
    },
    "executionInfo": {
     "elapsed": 8,
     "status": "ok",
     "timestamp": 1705606537339,
     "user": {
      "displayName": "srikaran elakurthy",
      "userId": "10476685350926501647"
     },
     "user_tz": 300
    },
    "id": "XFekThZdGEwm",
    "outputId": "7860fc2f-9045-461a-eb15-3112465f9ecc"
   },
   "outputs": [
    {
     "data": {
      "text/plain": [
       "['402_Consult-HistoryandPhy.-OtitisMedia-H&P_7',\n",
       " '478_Consult-HistoryandPhy.-StatusEpilepticus_7',\n",
       " '18_Consult-HistoryandPhy.-AnklePain-Consult_10',\n",
       " '335_Consult-HistoryandPhy.-Neuroblastoma-Consult_8',\n",
       " '286_Consult-HistoryandPhy.-ItchyRash-ERVisit_7',\n",
       " '511_Consult-HistoryandPhy.-Well-ChildCheck-6_2',\n",
       " '430_Consult-HistoryandPhy.-PsychConsult-Depression-1_10',\n",
       " '179_Consult-HistoryandPhy.-ForeignBody-RightNose_8']"
      ]
     },
     "execution_count": 9,
     "metadata": {},
     "output_type": "execute_result"
    }
   ],
   "source": [
    "empty_attributes"
   ]
  },
  {
   "cell_type": "markdown",
   "metadata": {
    "id": "gpjdR7lpGRHB"
   },
   "source": [
    "\n",
    "### Aspects of Data\n",
    "1.   There are 27 files which doesn't have annotations and we are excluding it for training and testing purposes but would be a small sample of unlabeled data for manual testing.\n",
    "2.   Attribute has only one type i.e Value and mostly have values which say about the time presence and whether negated or not.\n",
    "3. Value Attribute is only linked or it presence comes only when the Role Status is present.\n",
    "4. Whenever an Entity is present there is always a role and an event.\n",
    "\n",
    "\n"
   ]
  },
  {
   "cell_type": "code",
   "execution_count": null,
   "metadata": {
    "id": "EaihOz5fQIz4"
   },
   "outputs": [],
   "source": [
    "with open(generic_format_file_path, 'w', encoding='utf-8') as file:\n",
    "  json.dump(annotated_data, file)"
   ]
  },
  {
   "cell_type": "markdown",
   "metadata": {
    "id": "BElkIWo0eEuT"
   },
   "source": [
    "# Data Analysis:\n",
    "\n",
    "\n",
    "1.   Explore whether Entities and roles are word or span level\n",
    "2.   Find the Descriptive statitsics of sentences , Entities, Roles\n",
    "3.   Find the Cardinality relationship between entities and Roles.\n",
    "\n",
    "\n",
    "\n"
   ]
  },
  {
   "cell_type": "code",
   "execution_count": null,
   "metadata": {
    "id": "as_BFoFCMhuP"
   },
   "outputs": [],
   "source": [
    "def tokenize_sentence(sentence):\n",
    "    tokens = word_tokenize(sentence)\n",
    "    return tokens"
   ]
  },
  {
   "cell_type": "code",
   "execution_count": null,
   "metadata": {
    "id": "Mkl-6sNiKduJ"
   },
   "outputs": [],
   "source": [
    "annotated_df = pd.DataFrame(annotated_data)"
   ]
  },
  {
   "cell_type": "code",
   "execution_count": null,
   "metadata": {
    "colab": {
     "base_uri": "https://localhost:8080/"
    },
    "executionInfo": {
     "elapsed": 8,
     "status": "ok",
     "timestamp": 1707081441059,
     "user": {
      "displayName": "srikaran elakurthy",
      "userId": "10476685350926501647"
     },
     "user_tz": 300
    },
    "id": "OJ4Xx9lb-4WY",
    "outputId": "f2307aef-a8a0-453d-e4a5-bf438bedcfb2"
   },
   "outputs": [
    {
     "data": {
      "text/plain": [
       "(337, 6)"
      ]
     },
     "execution_count": 12,
     "metadata": {},
     "output_type": "execute_result"
    }
   ],
   "source": [
    "annotated_df.shape"
   ]
  },
  {
   "cell_type": "markdown",
   "metadata": {
    "id": "5sjLgOKZuA6c"
   },
   "source": [
    "### Entity analysis"
   ]
  },
  {
   "cell_type": "code",
   "execution_count": null,
   "metadata": {
    "id": "yxOSMGqE4M4X"
   },
   "outputs": [],
   "source": [
    "def role_overlap(role_lst):\n",
    "  # Sort the roles based on entity_strt_pos\n",
    "  sorted_roles = sorted(role_lst, key=lambda x: int(x['entity_strt_pos']))\n",
    "\n",
    "  # Find overlapping and encompassing roles\n",
    "  overlapping_roles = []\n",
    "  encompassing_roles_dict = {}\n",
    "\n",
    "  for i in range(len(sorted_roles) - 1):\n",
    "      current_role = sorted_roles[i]\n",
    "\n",
    "      for j in range(i + 1, len(sorted_roles)):\n",
    "          next_role = sorted_roles[j]\n",
    "\n",
    "          if (\n",
    "              int(current_role['entity_strt_pos']) <= int(next_role['entity_end_pos']) and\n",
    "              int(next_role['entity_strt_pos']) <= int(current_role['entity_end_pos'])\n",
    "          ):\n",
    "              # Roles are overlapping\n",
    "              overlapping_roles.append((current_role, next_role))\n",
    "\n",
    "              # Determine which role is encompassing the other\n",
    "              if (\n",
    "                  int(current_role['entity_strt_pos']) <= int(next_role['entity_strt_pos']) and\n",
    "                  int(current_role['entity_end_pos']) >= int(next_role['entity_end_pos'])\n",
    "              ):\n",
    "                  # current_role encompasses next_role\n",
    "                  current_category = (current_role['entity_category'],(current_role['entity_strt_pos'],current_role['entity_end_pos']))\n",
    "                  next_category = (next_role['entity_category'],(next_role['entity_strt_pos'],next_role['entity_end_pos']))\n",
    "\n",
    "                  if current_category not in encompassing_roles_dict:\n",
    "                      encompassing_roles_dict[current_category] = []\n",
    "\n",
    "                  encompassing_roles_dict[current_category].append(next_category)\n",
    "\n",
    "              elif (\n",
    "                  int(next_role['entity_strt_pos']) <= int(current_role['entity_strt_pos']) and\n",
    "                  int(next_role['entity_end_pos']) >= int(current_role['entity_end_pos'])\n",
    "              ):\n",
    "                  # next_role encompasses current_role\n",
    "\n",
    "                  next_category=(next_role['entity_category'],(next_role['entity_strt_pos'],next_role['entity_end_pos']))\n",
    "                  current_category=(current_role['entity_category'],(current_role['entity_strt_pos'],current_role['entity_end_pos']))\n",
    "\n",
    "\n",
    "                  if next_category not in encompassing_roles_dict:\n",
    "                      encompassing_roles_dict[next_category] = []\n",
    "\n",
    "                  encompassing_roles_dict[next_category].append(current_category)\n",
    "  return encompassing_roles_dict"
   ]
  },
  {
   "cell_type": "code",
   "execution_count": null,
   "metadata": {
    "id": "R1YuheHFLXW7"
   },
   "outputs": [],
   "source": [
    "entity_df=pd.DataFrame(list(chain(*(annotated_df['entity_list'].tolist()))))\n"
   ]
  },
  {
   "cell_type": "code",
   "execution_count": null,
   "metadata": {
    "colab": {
     "base_uri": "https://localhost:8080/"
    },
    "executionInfo": {
     "elapsed": 140,
     "status": "ok",
     "timestamp": 1707079990669,
     "user": {
      "displayName": "srikaran elakurthy",
      "userId": "10476685350926501647"
     },
     "user_tz": 300
    },
    "id": "_YGdR5bl5Ubb",
    "outputId": "9ecd1f84-2755-43cd-a2d3-8283db927c13"
   },
   "outputs": [
    {
     "data": {
      "text/plain": [
       "array(['Tobacco', 'Alcohol', 'Drug', 'MaritalStatus', 'Family',\n",
       "       'LivingSituation', 'Residence', 'SexualHistory',\n",
       "       'PhysicalActivity', 'Occupation', 'InfectiousDiseases',\n",
       "       'EnvironmentalExposure'], dtype=object)"
      ]
     },
     "execution_count": 11,
     "metadata": {},
     "output_type": "execute_result"
    }
   ],
   "source": [
    "entity_df['entity_category'].unique()"
   ]
  },
  {
   "cell_type": "code",
   "execution_count": null,
   "metadata": {
    "colab": {
     "base_uri": "https://localhost:8080/",
     "height": 419
    },
    "executionInfo": {
     "elapsed": 202,
     "status": "ok",
     "timestamp": 1707079974165,
     "user": {
      "displayName": "srikaran elakurthy",
      "userId": "10476685350926501647"
     },
     "user_tz": 300
    },
    "id": "OqND-aFhuyx_",
    "outputId": "8b99c761-ec10-4cf0-d394-380f1e4c37d9"
   },
   "outputs": [
    {
     "data": {
      "text/html": [
       "\n",
       "  <div id=\"df-b5293aff-4cf8-429f-b189-8c0ad9ed7e3d\" class=\"colab-df-container\">\n",
       "    <div>\n",
       "<style scoped>\n",
       "    .dataframe tbody tr th:only-of-type {\n",
       "        vertical-align: middle;\n",
       "    }\n",
       "\n",
       "    .dataframe tbody tr th {\n",
       "        vertical-align: top;\n",
       "    }\n",
       "\n",
       "    .dataframe thead th {\n",
       "        text-align: right;\n",
       "    }\n",
       "</style>\n",
       "<table border=\"1\" class=\"dataframe\">\n",
       "  <thead>\n",
       "    <tr style=\"text-align: right;\">\n",
       "      <th></th>\n",
       "      <th>entity_id</th>\n",
       "      <th>entity_type</th>\n",
       "      <th>entity_category</th>\n",
       "      <th>entity_strt_pos</th>\n",
       "      <th>entity_end_pos</th>\n",
       "      <th>entity_text</th>\n",
       "    </tr>\n",
       "  </thead>\n",
       "  <tbody>\n",
       "    <tr>\n",
       "      <th>0</th>\n",
       "      <td>1</td>\n",
       "      <td>Entity</td>\n",
       "      <td>Tobacco</td>\n",
       "      <td>35</td>\n",
       "      <td>42</td>\n",
       "      <td>tobacco</td>\n",
       "    </tr>\n",
       "    <tr>\n",
       "      <th>1</th>\n",
       "      <td>2</td>\n",
       "      <td>Entity</td>\n",
       "      <td>Alcohol</td>\n",
       "      <td>44</td>\n",
       "      <td>51</td>\n",
       "      <td>ethanol</td>\n",
       "    </tr>\n",
       "    <tr>\n",
       "      <th>2</th>\n",
       "      <td>3</td>\n",
       "      <td>Entity</td>\n",
       "      <td>Drug</td>\n",
       "      <td>56</td>\n",
       "      <td>60</td>\n",
       "      <td>drug</td>\n",
       "    </tr>\n",
       "    <tr>\n",
       "      <th>3</th>\n",
       "      <td>5</td>\n",
       "      <td>Entity</td>\n",
       "      <td>MaritalStatus</td>\n",
       "      <td>83</td>\n",
       "      <td>92</td>\n",
       "      <td>separated</td>\n",
       "    </tr>\n",
       "    <tr>\n",
       "      <th>4</th>\n",
       "      <td>8</td>\n",
       "      <td>Entity</td>\n",
       "      <td>Family</td>\n",
       "      <td>148</td>\n",
       "      <td>156</td>\n",
       "      <td>daughter</td>\n",
       "    </tr>\n",
       "    <tr>\n",
       "      <th>...</th>\n",
       "      <td>...</td>\n",
       "      <td>...</td>\n",
       "      <td>...</td>\n",
       "      <td>...</td>\n",
       "      <td>...</td>\n",
       "      <td>...</td>\n",
       "    </tr>\n",
       "    <tr>\n",
       "      <th>1340</th>\n",
       "      <td>13</td>\n",
       "      <td>Entity</td>\n",
       "      <td>Tobacco</td>\n",
       "      <td>158</td>\n",
       "      <td>163</td>\n",
       "      <td>smoke</td>\n",
       "    </tr>\n",
       "    <tr>\n",
       "      <th>1341</th>\n",
       "      <td>3</td>\n",
       "      <td>Entity</td>\n",
       "      <td>Occupation</td>\n",
       "      <td>64</td>\n",
       "      <td>69</td>\n",
       "      <td>works</td>\n",
       "    </tr>\n",
       "    <tr>\n",
       "      <th>1342</th>\n",
       "      <td>6</td>\n",
       "      <td>Entity</td>\n",
       "      <td>Family</td>\n",
       "      <td>259</td>\n",
       "      <td>263</td>\n",
       "      <td>baby</td>\n",
       "    </tr>\n",
       "    <tr>\n",
       "      <th>1343</th>\n",
       "      <td>10</td>\n",
       "      <td>Entity</td>\n",
       "      <td>Tobacco</td>\n",
       "      <td>278</td>\n",
       "      <td>283</td>\n",
       "      <td>smoke</td>\n",
       "    </tr>\n",
       "    <tr>\n",
       "      <th>1344</th>\n",
       "      <td>12</td>\n",
       "      <td>Entity</td>\n",
       "      <td>Alcohol</td>\n",
       "      <td>297</td>\n",
       "      <td>302</td>\n",
       "      <td>drink</td>\n",
       "    </tr>\n",
       "  </tbody>\n",
       "</table>\n",
       "<p>1345 rows × 6 columns</p>\n",
       "</div>\n",
       "    <div class=\"colab-df-buttons\">\n",
       "\n",
       "  <div class=\"colab-df-container\">\n",
       "    <button class=\"colab-df-convert\" onclick=\"convertToInteractive('df-b5293aff-4cf8-429f-b189-8c0ad9ed7e3d')\"\n",
       "            title=\"Convert this dataframe to an interactive table.\"\n",
       "            style=\"display:none;\">\n",
       "\n",
       "  <svg xmlns=\"http://www.w3.org/2000/svg\" height=\"24px\" viewBox=\"0 -960 960 960\">\n",
       "    <path d=\"M120-120v-720h720v720H120Zm60-500h600v-160H180v160Zm220 220h160v-160H400v160Zm0 220h160v-160H400v160ZM180-400h160v-160H180v160Zm440 0h160v-160H620v160ZM180-180h160v-160H180v160Zm440 0h160v-160H620v160Z\"/>\n",
       "  </svg>\n",
       "    </button>\n",
       "\n",
       "  <style>\n",
       "    .colab-df-container {\n",
       "      display:flex;\n",
       "      gap: 12px;\n",
       "    }\n",
       "\n",
       "    .colab-df-convert {\n",
       "      background-color: #E8F0FE;\n",
       "      border: none;\n",
       "      border-radius: 50%;\n",
       "      cursor: pointer;\n",
       "      display: none;\n",
       "      fill: #1967D2;\n",
       "      height: 32px;\n",
       "      padding: 0 0 0 0;\n",
       "      width: 32px;\n",
       "    }\n",
       "\n",
       "    .colab-df-convert:hover {\n",
       "      background-color: #E2EBFA;\n",
       "      box-shadow: 0px 1px 2px rgba(60, 64, 67, 0.3), 0px 1px 3px 1px rgba(60, 64, 67, 0.15);\n",
       "      fill: #174EA6;\n",
       "    }\n",
       "\n",
       "    .colab-df-buttons div {\n",
       "      margin-bottom: 4px;\n",
       "    }\n",
       "\n",
       "    [theme=dark] .colab-df-convert {\n",
       "      background-color: #3B4455;\n",
       "      fill: #D2E3FC;\n",
       "    }\n",
       "\n",
       "    [theme=dark] .colab-df-convert:hover {\n",
       "      background-color: #434B5C;\n",
       "      box-shadow: 0px 1px 3px 1px rgba(0, 0, 0, 0.15);\n",
       "      filter: drop-shadow(0px 1px 2px rgba(0, 0, 0, 0.3));\n",
       "      fill: #FFFFFF;\n",
       "    }\n",
       "  </style>\n",
       "\n",
       "    <script>\n",
       "      const buttonEl =\n",
       "        document.querySelector('#df-b5293aff-4cf8-429f-b189-8c0ad9ed7e3d button.colab-df-convert');\n",
       "      buttonEl.style.display =\n",
       "        google.colab.kernel.accessAllowed ? 'block' : 'none';\n",
       "\n",
       "      async function convertToInteractive(key) {\n",
       "        const element = document.querySelector('#df-b5293aff-4cf8-429f-b189-8c0ad9ed7e3d');\n",
       "        const dataTable =\n",
       "          await google.colab.kernel.invokeFunction('convertToInteractive',\n",
       "                                                    [key], {});\n",
       "        if (!dataTable) return;\n",
       "\n",
       "        const docLinkHtml = 'Like what you see? Visit the ' +\n",
       "          '<a target=\"_blank\" href=https://colab.research.google.com/notebooks/data_table.ipynb>data table notebook</a>'\n",
       "          + ' to learn more about interactive tables.';\n",
       "        element.innerHTML = '';\n",
       "        dataTable['output_type'] = 'display_data';\n",
       "        await google.colab.output.renderOutput(dataTable, element);\n",
       "        const docLink = document.createElement('div');\n",
       "        docLink.innerHTML = docLinkHtml;\n",
       "        element.appendChild(docLink);\n",
       "      }\n",
       "    </script>\n",
       "  </div>\n",
       "\n",
       "\n",
       "<div id=\"df-2d620e85-8903-49d9-92cc-880ed10fbbe9\">\n",
       "  <button class=\"colab-df-quickchart\" onclick=\"quickchart('df-2d620e85-8903-49d9-92cc-880ed10fbbe9')\"\n",
       "            title=\"Suggest charts\"\n",
       "            style=\"display:none;\">\n",
       "\n",
       "<svg xmlns=\"http://www.w3.org/2000/svg\" height=\"24px\"viewBox=\"0 0 24 24\"\n",
       "     width=\"24px\">\n",
       "    <g>\n",
       "        <path d=\"M19 3H5c-1.1 0-2 .9-2 2v14c0 1.1.9 2 2 2h14c1.1 0 2-.9 2-2V5c0-1.1-.9-2-2-2zM9 17H7v-7h2v7zm4 0h-2V7h2v10zm4 0h-2v-4h2v4z\"/>\n",
       "    </g>\n",
       "</svg>\n",
       "  </button>\n",
       "\n",
       "<style>\n",
       "  .colab-df-quickchart {\n",
       "      --bg-color: #E8F0FE;\n",
       "      --fill-color: #1967D2;\n",
       "      --hover-bg-color: #E2EBFA;\n",
       "      --hover-fill-color: #174EA6;\n",
       "      --disabled-fill-color: #AAA;\n",
       "      --disabled-bg-color: #DDD;\n",
       "  }\n",
       "\n",
       "  [theme=dark] .colab-df-quickchart {\n",
       "      --bg-color: #3B4455;\n",
       "      --fill-color: #D2E3FC;\n",
       "      --hover-bg-color: #434B5C;\n",
       "      --hover-fill-color: #FFFFFF;\n",
       "      --disabled-bg-color: #3B4455;\n",
       "      --disabled-fill-color: #666;\n",
       "  }\n",
       "\n",
       "  .colab-df-quickchart {\n",
       "    background-color: var(--bg-color);\n",
       "    border: none;\n",
       "    border-radius: 50%;\n",
       "    cursor: pointer;\n",
       "    display: none;\n",
       "    fill: var(--fill-color);\n",
       "    height: 32px;\n",
       "    padding: 0;\n",
       "    width: 32px;\n",
       "  }\n",
       "\n",
       "  .colab-df-quickchart:hover {\n",
       "    background-color: var(--hover-bg-color);\n",
       "    box-shadow: 0 1px 2px rgba(60, 64, 67, 0.3), 0 1px 3px 1px rgba(60, 64, 67, 0.15);\n",
       "    fill: var(--button-hover-fill-color);\n",
       "  }\n",
       "\n",
       "  .colab-df-quickchart-complete:disabled,\n",
       "  .colab-df-quickchart-complete:disabled:hover {\n",
       "    background-color: var(--disabled-bg-color);\n",
       "    fill: var(--disabled-fill-color);\n",
       "    box-shadow: none;\n",
       "  }\n",
       "\n",
       "  .colab-df-spinner {\n",
       "    border: 2px solid var(--fill-color);\n",
       "    border-color: transparent;\n",
       "    border-bottom-color: var(--fill-color);\n",
       "    animation:\n",
       "      spin 1s steps(1) infinite;\n",
       "  }\n",
       "\n",
       "  @keyframes spin {\n",
       "    0% {\n",
       "      border-color: transparent;\n",
       "      border-bottom-color: var(--fill-color);\n",
       "      border-left-color: var(--fill-color);\n",
       "    }\n",
       "    20% {\n",
       "      border-color: transparent;\n",
       "      border-left-color: var(--fill-color);\n",
       "      border-top-color: var(--fill-color);\n",
       "    }\n",
       "    30% {\n",
       "      border-color: transparent;\n",
       "      border-left-color: var(--fill-color);\n",
       "      border-top-color: var(--fill-color);\n",
       "      border-right-color: var(--fill-color);\n",
       "    }\n",
       "    40% {\n",
       "      border-color: transparent;\n",
       "      border-right-color: var(--fill-color);\n",
       "      border-top-color: var(--fill-color);\n",
       "    }\n",
       "    60% {\n",
       "      border-color: transparent;\n",
       "      border-right-color: var(--fill-color);\n",
       "    }\n",
       "    80% {\n",
       "      border-color: transparent;\n",
       "      border-right-color: var(--fill-color);\n",
       "      border-bottom-color: var(--fill-color);\n",
       "    }\n",
       "    90% {\n",
       "      border-color: transparent;\n",
       "      border-bottom-color: var(--fill-color);\n",
       "    }\n",
       "  }\n",
       "</style>\n",
       "\n",
       "  <script>\n",
       "    async function quickchart(key) {\n",
       "      const quickchartButtonEl =\n",
       "        document.querySelector('#' + key + ' button');\n",
       "      quickchartButtonEl.disabled = true;  // To prevent multiple clicks.\n",
       "      quickchartButtonEl.classList.add('colab-df-spinner');\n",
       "      try {\n",
       "        const charts = await google.colab.kernel.invokeFunction(\n",
       "            'suggestCharts', [key], {});\n",
       "      } catch (error) {\n",
       "        console.error('Error during call to suggestCharts:', error);\n",
       "      }\n",
       "      quickchartButtonEl.classList.remove('colab-df-spinner');\n",
       "      quickchartButtonEl.classList.add('colab-df-quickchart-complete');\n",
       "    }\n",
       "    (() => {\n",
       "      let quickchartButtonEl =\n",
       "        document.querySelector('#df-2d620e85-8903-49d9-92cc-880ed10fbbe9 button');\n",
       "      quickchartButtonEl.style.display =\n",
       "        google.colab.kernel.accessAllowed ? 'block' : 'none';\n",
       "    })();\n",
       "  </script>\n",
       "</div>\n",
       "\n",
       "  <div id=\"id_d96d4c84-df6a-4fdb-93c0-73c18660d3a8\">\n",
       "    <style>\n",
       "      .colab-df-generate {\n",
       "        background-color: #E8F0FE;\n",
       "        border: none;\n",
       "        border-radius: 50%;\n",
       "        cursor: pointer;\n",
       "        display: none;\n",
       "        fill: #1967D2;\n",
       "        height: 32px;\n",
       "        padding: 0 0 0 0;\n",
       "        width: 32px;\n",
       "      }\n",
       "\n",
       "      .colab-df-generate:hover {\n",
       "        background-color: #E2EBFA;\n",
       "        box-shadow: 0px 1px 2px rgba(60, 64, 67, 0.3), 0px 1px 3px 1px rgba(60, 64, 67, 0.15);\n",
       "        fill: #174EA6;\n",
       "      }\n",
       "\n",
       "      [theme=dark] .colab-df-generate {\n",
       "        background-color: #3B4455;\n",
       "        fill: #D2E3FC;\n",
       "      }\n",
       "\n",
       "      [theme=dark] .colab-df-generate:hover {\n",
       "        background-color: #434B5C;\n",
       "        box-shadow: 0px 1px 3px 1px rgba(0, 0, 0, 0.15);\n",
       "        filter: drop-shadow(0px 1px 2px rgba(0, 0, 0, 0.3));\n",
       "        fill: #FFFFFF;\n",
       "      }\n",
       "    </style>\n",
       "    <button class=\"colab-df-generate\" onclick=\"generateWithVariable('entity_df')\"\n",
       "            title=\"Generate code using this dataframe.\"\n",
       "            style=\"display:none;\">\n",
       "\n",
       "  <svg xmlns=\"http://www.w3.org/2000/svg\" height=\"24px\"viewBox=\"0 0 24 24\"\n",
       "       width=\"24px\">\n",
       "    <path d=\"M7,19H8.4L18.45,9,17,7.55,7,17.6ZM5,21V16.75L18.45,3.32a2,2,0,0,1,2.83,0l1.4,1.43a1.91,1.91,0,0,1,.58,1.4,1.91,1.91,0,0,1-.58,1.4L9.25,21ZM18.45,9,17,7.55Zm-12,3A5.31,5.31,0,0,0,4.9,8.1,5.31,5.31,0,0,0,1,6.5,5.31,5.31,0,0,0,4.9,4.9,5.31,5.31,0,0,0,6.5,1,5.31,5.31,0,0,0,8.1,4.9,5.31,5.31,0,0,0,12,6.5,5.46,5.46,0,0,0,6.5,12Z\"/>\n",
       "  </svg>\n",
       "    </button>\n",
       "    <script>\n",
       "      (() => {\n",
       "      const buttonEl =\n",
       "        document.querySelector('#id_d96d4c84-df6a-4fdb-93c0-73c18660d3a8 button.colab-df-generate');\n",
       "      buttonEl.style.display =\n",
       "        google.colab.kernel.accessAllowed ? 'block' : 'none';\n",
       "\n",
       "      buttonEl.onclick = () => {\n",
       "        google.colab.notebook.generateWithVariable('entity_df');\n",
       "      }\n",
       "      })();\n",
       "    </script>\n",
       "  </div>\n",
       "\n",
       "    </div>\n",
       "  </div>\n"
      ],
      "text/plain": [
       "      entity_id entity_type entity_category entity_strt_pos entity_end_pos  \\\n",
       "0             1      Entity         Tobacco              35             42   \n",
       "1             2      Entity         Alcohol              44             51   \n",
       "2             3      Entity            Drug              56             60   \n",
       "3             5      Entity   MaritalStatus              83             92   \n",
       "4             8      Entity          Family             148            156   \n",
       "...         ...         ...             ...             ...            ...   \n",
       "1340         13      Entity         Tobacco             158            163   \n",
       "1341          3      Entity      Occupation              64             69   \n",
       "1342          6      Entity          Family             259            263   \n",
       "1343         10      Entity         Tobacco             278            283   \n",
       "1344         12      Entity         Alcohol             297            302   \n",
       "\n",
       "     entity_text  \n",
       "0        tobacco  \n",
       "1        ethanol  \n",
       "2           drug  \n",
       "3      separated  \n",
       "4       daughter  \n",
       "...          ...  \n",
       "1340       smoke  \n",
       "1341       works  \n",
       "1342        baby  \n",
       "1343       smoke  \n",
       "1344       drink  \n",
       "\n",
       "[1345 rows x 6 columns]"
      ]
     },
     "execution_count": 10,
     "metadata": {},
     "output_type": "execute_result"
    }
   ],
   "source": [
    "entity_df"
   ]
  },
  {
   "cell_type": "code",
   "execution_count": null,
   "metadata": {
    "colab": {
     "base_uri": "https://localhost:8080/"
    },
    "executionInfo": {
     "elapsed": 8,
     "status": "ok",
     "timestamp": 1705606538245,
     "user": {
      "displayName": "srikaran elakurthy",
      "userId": "10476685350926501647"
     },
     "user_tz": 300
    },
    "id": "RfBCNFyLLC-y",
    "outputId": "4b7cbc36-3c7f-45bd-ed5c-c3095c63a52e"
   },
   "outputs": [
    {
     "data": {
      "text/plain": [
       "Tobacco                  278\n",
       "Alcohol                  254\n",
       "Family                   183\n",
       "Drug                     154\n",
       "Occupation               135\n",
       "MaritalStatus            122\n",
       "LivingSituation           98\n",
       "Residence                 51\n",
       "PhysicalActivity          31\n",
       "EnvironmentalExposure     20\n",
       "InfectiousDiseases        11\n",
       "SexualHistory              8\n",
       "Name: entity_category, dtype: int64"
      ]
     },
     "execution_count": 16,
     "metadata": {},
     "output_type": "execute_result"
    }
   ],
   "source": [
    "entity_df['entity_category'].value_counts()"
   ]
  },
  {
   "cell_type": "code",
   "execution_count": null,
   "metadata": {
    "id": "xwjGTCAUMqBH"
   },
   "outputs": [],
   "source": [
    "entity_df['tokenized_text']= entity_df['entity_text'].apply(tokenize_sentence)"
   ]
  },
  {
   "cell_type": "code",
   "execution_count": null,
   "metadata": {
    "id": "eMWS9sc2M4Lg"
   },
   "outputs": [],
   "source": [
    "\n",
    "entity_df['len_of_enity']=entity_df['tokenized_text'].str.len()\n"
   ]
  },
  {
   "cell_type": "code",
   "execution_count": null,
   "metadata": {
    "colab": {
     "base_uri": "https://localhost:8080/"
    },
    "executionInfo": {
     "elapsed": 21,
     "status": "ok",
     "timestamp": 1705606538906,
     "user": {
      "displayName": "srikaran elakurthy",
      "userId": "10476685350926501647"
     },
     "user_tz": 300
    },
    "id": "ArrGn0oWNPlx",
    "outputId": "746a1067-fdce-4543-c4c3-345614106185"
   },
   "outputs": [
    {
     "data": {
      "text/plain": [
       "count    1345.000000\n",
       "mean        1.894424\n",
       "std         2.110244\n",
       "min         1.000000\n",
       "25%         1.000000\n",
       "50%         1.000000\n",
       "75%         2.000000\n",
       "max        24.000000\n",
       "Name: len_of_enity, dtype: float64"
      ]
     },
     "execution_count": 19,
     "metadata": {},
     "output_type": "execute_result"
    }
   ],
   "source": [
    "\n",
    "\n",
    "entity_df['len_of_enity'].describe()\n"
   ]
  },
  {
   "cell_type": "code",
   "execution_count": null,
   "metadata": {
    "colab": {
     "base_uri": "https://localhost:8080/"
    },
    "executionInfo": {
     "elapsed": 20,
     "status": "ok",
     "timestamp": 1705606538906,
     "user": {
      "displayName": "srikaran elakurthy",
      "userId": "10476685350926501647"
     },
     "user_tz": 300
    },
    "id": "OshwFA7Ltd9i",
    "outputId": "7dd86bf8-e4f0-409e-d86f-579e18d41f0c"
   },
   "outputs": [
    {
     "data": {
      "text/plain": [
       "2     255\n",
       "3      65\n",
       "4      61\n",
       "5      32\n",
       "6      20\n",
       "7       9\n",
       "8       5\n",
       "11      5\n",
       "14      4\n",
       "10      3\n",
       "9       2\n",
       "15      2\n",
       "19      2\n",
       "12      2\n",
       "18      1\n",
       "24      1\n",
       "16      1\n",
       "21      1\n",
       "13      1\n",
       "Name: len_of_enity, dtype: int64"
      ]
     },
     "execution_count": 20,
     "metadata": {},
     "output_type": "execute_result"
    }
   ],
   "source": [
    "entity_df[entity_df['len_of_enity']>1]['len_of_enity'].value_counts()"
   ]
  },
  {
   "cell_type": "markdown",
   "metadata": {
    "id": "iHV69ekHv9Je"
   },
   "source": [
    "Check : Does are there any overlapping entities"
   ]
  },
  {
   "cell_type": "code",
   "execution_count": null,
   "metadata": {
    "colab": {
     "base_uri": "https://localhost:8080/"
    },
    "executionInfo": {
     "elapsed": 251,
     "status": "ok",
     "timestamp": 1705606900594,
     "user": {
      "displayName": "srikaran elakurthy",
      "userId": "10476685350926501647"
     },
     "user_tz": 300
    },
    "id": "EktsU1U93uAN",
    "outputId": "ae9a3e6f-6fe7-47e1-8175-23933e0d3566"
   },
   "outputs": [
    {
     "data": {
      "text/plain": [
       "[{('LivingSituation', ('172', '194')): [('Residence', ('172', '177'))]},\n",
       " {('LivingSituation', ('29', '48')): [('Family', ('44', '48'))]},\n",
       " {('LivingSituation', ('28', '50')): [('Family', ('43', '50'))]},\n",
       " {('LivingSituation', ('47', '69')): [('Family', ('62', '69'))]},\n",
       " {('LivingSituation', ('20', '57')): [('Family', ('31', '34')),\n",
       "   ('Family', ('36', '39')),\n",
       "   ('Family', ('41', '48')),\n",
       "   ('Family', ('50', '57'))]},\n",
       " {('LivingSituation', ('126', '163')): [('Family', ('141', '145')),\n",
       "   ('Family', ('150', '163'))]},\n",
       " {('LivingSituation', ('44', '89')): [('Residence', ('44', '49')),\n",
       "   ('MaritalStatus', ('55', '74')),\n",
       "   ('Family', ('55', '62'))],\n",
       "  ('MaritalStatus', ('55', '74')): [('Family', ('55', '62'))]},\n",
       " {('LivingSituation', ('20', '52')): [('Family', ('31', '38')),\n",
       "   ('Family', ('43', '51'))]},\n",
       " {('LivingSituation', ('43', '62')): [('Family', ('58', '62'))]},\n",
       " {('LivingSituation', ('29', '65')): [('Family', ('44', '48')),\n",
       "   ('Family', ('53', '65'))]},\n",
       " {('LivingSituation', ('36', '57')): [('Family', ('51', '57'))]},\n",
       " {('LivingSituation', ('62', '81')): [('Family', ('77', '81'))]},\n",
       " {('LivingSituation', ('153', '185')): [('Family', ('168', '172')),\n",
       "   ('Family', ('177', '185'))]},\n",
       " {('LivingSituation', ('55', '82')): [('Family', ('69', '77'))]},\n",
       " {('LivingSituation', ('21', '85')): [('Family', ('48', '55')),\n",
       "   ('Family', ('56', '62')),\n",
       "   ('Family', ('68', '84'))]},\n",
       " {('LivingSituation', ('16', '34')): [('Family', ('27', '34'))]},\n",
       " {('LivingSituation', ('27', '117')): [('Family', ('42', '48')),\n",
       "   ('Family', ('53', '59'))]},\n",
       " {('LivingSituation', ('27', '68')): [('Family', ('42', '45')),\n",
       "   ('Family', ('47', '50'))]},\n",
       " {('LivingSituation', ('20', '43')): [('Family', ('36', '43'))]},\n",
       " {('LivingSituation', ('22', '42')): [('Family', ('38', '42'))]},\n",
       " {('LivingSituation', ('40', '62')): [('Family', ('55', '62'))]},\n",
       " {('LivingSituation', ('89', '107')): [('Family', ('104', '107'))]},\n",
       " {('LivingSituation', ('104', '163')): [('Family', ('127', '134')),\n",
       "   ('Family', ('145', '163'))]},\n",
       " {('LivingSituation', ('20', '42')): [('Family', ('35', '42'))]},\n",
       " {('LivingSituation', ('59', '78')): [('Family', ('74', '78'))]},\n",
       " {('LivingSituation', ('17', '73')): [('Residence', ('17', '57')),\n",
       "   ('Family', ('59', '63'))]},\n",
       " {('LivingSituation', ('59', '78')): [('Family', ('74', '78'))]},\n",
       " {('LivingSituation', ('292', '370')): [('Family', ('292', '304'))]},\n",
       " {('LivingSituation', ('29', '68')): [('Family', ('40', '52'))]},\n",
       " {('Residence', ('28', '55')): [('LivingSituation', ('28', '39'))]},\n",
       " {('LivingSituation', ('67', '95')): [('Family', ('82', '85')),\n",
       "   ('Residence', ('89', '95'))]},\n",
       " {('LivingSituation', ('63', '85')): [('Family', ('78', '85'))]},\n",
       " {('Residence', ('24', '126')): [('LivingSituation', ('24', '108')),\n",
       "   ('Family', ('55', '61')),\n",
       "   ('Family', ('83', '90'))],\n",
       "  ('LivingSituation', ('24', '108')): [('Family', ('55', '61')),\n",
       "   ('Family', ('83', '90'))]},\n",
       " {('LivingSituation', ('28', '145')): [('Family', ('59', '65')),\n",
       "   ('Family', ('102', '108'))]},\n",
       " {('LivingSituation', ('41', '63')): [('Family', ('56', '63'))]},\n",
       " {('LivingSituation', ('29', '61')): [('Family', ('52', '60'))]},\n",
       " {('LivingSituation', ('17', '104')): [('Family', ('30', '33')),\n",
       "   ('Family', ('35', '38')),\n",
       "   ('Family', ('44', '46')),\n",
       "   ('Family', ('49', '51')),\n",
       "   ('Family', ('54', '56')),\n",
       "   ('Family', ('59', '61')),\n",
       "   ('Family', ('98', '104'))]},\n",
       " {('LivingSituation', ('202', '232')): [('Family', ('225', '232'))]},\n",
       " {('LivingSituation', ('96', '119')): [('Residence', ('96', '101')),\n",
       "   ('Family', ('111', '119'))]},\n",
       " {('LivingSituation', ('84', '143')): [('Residence', ('84', '119'))]},\n",
       " {('LivingSituation', ('19', '52')): [('Residence', ('19', '24')),\n",
       "   ('Family', ('34', '38'))]},\n",
       " {('LivingSituation', ('99', '126')): [('Residence', ('99', '112')),\n",
       "   ('Family', ('122', '126'))]},\n",
       " {('LivingSituation', ('19', '38')): [('Family', ('34', '38')),\n",
       "   ('MaritalStatus', ('34', '38'))],\n",
       "  ('Family', ('34', '38')): [('MaritalStatus', ('34', '38'))]},\n",
       " {('LivingSituation', ('44', '65')): [('Family', ('59', '65'))]},\n",
       " {('LivingSituation', ('43', '73')): [('Family', ('66', '73'))]}]"
      ]
     },
     "execution_count": 25,
     "metadata": {},
     "output_type": "execute_result"
    }
   ],
   "source": [
    "overlapping_entities_list=[]\n",
    "entity_encompassing_list=[]\n",
    "entity_compassed_by_list=[]\n",
    "for ele in annotated_data:\n",
    "  overlaps=role_overlap(ele['entity_list'])\n",
    "  if len(overlaps)>0:\n",
    "    overlapping_entities_list.append(overlaps)\n",
    "    for key, value in overlaps.items():\n",
    "      entity_encompassing_list.append(key)\n",
    "      entity_compassed_by_list.extend(value)\n",
    "overlapping_entities_list"
   ]
  },
  {
   "cell_type": "code",
   "execution_count": null,
   "metadata": {
    "colab": {
     "base_uri": "https://localhost:8080/"
    },
    "executionInfo": {
     "elapsed": 403,
     "status": "ok",
     "timestamp": 1705607683360,
     "user": {
      "displayName": "srikaran elakurthy",
      "userId": "10476685350926501647"
     },
     "user_tz": 300
    },
    "id": "4WXZz-8x2X7l",
    "outputId": "9c1f31fd-49a1-4744-cae5-e7449e0a4ca8"
   },
   "outputs": [
    {
     "data": {
      "text/plain": [
       "45"
      ]
     },
     "execution_count": 26,
     "metadata": {},
     "output_type": "execute_result"
    }
   ],
   "source": [
    "len(overlapping_entities_list)"
   ]
  },
  {
   "cell_type": "markdown",
   "metadata": {
    "id": "LBuJCM3ZuNwr"
   },
   "source": [
    "### Role Analysis"
   ]
  },
  {
   "cell_type": "code",
   "execution_count": null,
   "metadata": {
    "colab": {
     "base_uri": "https://localhost:8080/"
    },
    "executionInfo": {
     "elapsed": 145,
     "status": "ok",
     "timestamp": 1707085351153,
     "user": {
      "displayName": "srikaran elakurthy",
      "userId": "10476685350926501647"
     },
     "user_tz": 300
    },
    "id": "0OT6-VRJt-wE",
    "outputId": "afe754cc-9ed0-424a-cbaf-27c321d2c9f6"
   },
   "outputs": [
    {
     "data": {
      "text/plain": [
       "Status              958\n",
       "Type                655\n",
       "Amount              269\n",
       "Method              167\n",
       "Frequency           139\n",
       "Location             80\n",
       "Temporal             48\n",
       "ExposureHistory      46\n",
       "QuitHistory          45\n",
       "LivingStatus         19\n",
       "Other                 9\n",
       "MedicalCondition      9\n",
       "Extent                3\n",
       "History               1\n",
       "Name: entity_category, dtype: int64"
      ]
     },
     "execution_count": 19,
     "metadata": {},
     "output_type": "execute_result"
    }
   ],
   "source": [
    "role_df=pd.DataFrame(list(chain(*(annotated_df['role_list'].tolist()))))\n",
    "role_df['entity_category'].value_counts()"
   ]
  },
  {
   "cell_type": "code",
   "execution_count": null,
   "metadata": {
    "colab": {
     "base_uri": "https://localhost:8080/"
    },
    "executionInfo": {
     "elapsed": 255,
     "status": "ok",
     "timestamp": 1705616023628,
     "user": {
      "displayName": "srikaran elakurthy",
      "userId": "10476685350926501647"
     },
     "user_tz": 300
    },
    "id": "QnREgJVpomMM",
    "outputId": "b4ae5c12-114a-4970-e912-414eff5e42d9"
   },
   "outputs": [
    {
     "data": {
      "text/plain": [
       "array(['Status', 'Type', 'Amount', 'Method', 'Location', 'Frequency',\n",
       "       'Temporal', 'LivingStatus', 'Extent', 'Other', 'MedicalCondition',\n",
       "       'QuitHistory', 'ExposureHistory', 'History'], dtype=object)"
      ]
     },
     "execution_count": 38,
     "metadata": {},
     "output_type": "execute_result"
    }
   ],
   "source": [
    "role_df['entity_category'].unique()"
   ]
  },
  {
   "cell_type": "code",
   "execution_count": null,
   "metadata": {
    "colab": {
     "base_uri": "https://localhost:8080/"
    },
    "executionInfo": {
     "elapsed": 346,
     "status": "ok",
     "timestamp": 1707085364759,
     "user": {
      "displayName": "srikaran elakurthy",
      "userId": "10476685350926501647"
     },
     "user_tz": 300
    },
    "id": "gK8pfQcWuJ1q",
    "outputId": "0928a606-770a-48d5-bb38-515620cb43bb"
   },
   "outputs": [
    {
     "data": {
      "text/plain": [
       "count    2448.00000\n",
       "mean        1.83415\n",
       "std         1.63491\n",
       "min         1.00000\n",
       "25%         1.00000\n",
       "50%         1.00000\n",
       "75%         2.00000\n",
       "max        23.00000\n",
       "Name: len_of_enity, dtype: float64"
      ]
     },
     "execution_count": 20,
     "metadata": {},
     "output_type": "execute_result"
    }
   ],
   "source": [
    "role_df['tokenized_text']= role_df['entity_text'].apply(tokenize_sentence)\n",
    "role_df['len_of_enity']=role_df['tokenized_text'].str.len()\n",
    "role_df['len_of_enity'].describe()\n"
   ]
  },
  {
   "cell_type": "code",
   "execution_count": null,
   "metadata": {
    "colab": {
     "base_uri": "https://localhost:8080/"
    },
    "executionInfo": {
     "elapsed": 143,
     "status": "ok",
     "timestamp": 1707085380950,
     "user": {
      "displayName": "srikaran elakurthy",
      "userId": "10476685350926501647"
     },
     "user_tz": 300
    },
    "id": "BwewriegxdUJ",
    "outputId": "13370823-8337-40b5-d648-e9fe1077cef9"
   },
   "outputs": [
    {
     "data": {
      "text/plain": [
       "1     1467\n",
       "2      523\n",
       "3      217\n",
       "4      123\n",
       "5       49\n",
       "6       28\n",
       "7       15\n",
       "8        6\n",
       "9        5\n",
       "10       3\n",
       "14       3\n",
       "15       2\n",
       "19       1\n",
       "16       1\n",
       "23       1\n",
       "13       1\n",
       "11       1\n",
       "18       1\n",
       "21       1\n",
       "Name: len_of_enity, dtype: int64"
      ]
     },
     "execution_count": 21,
     "metadata": {},
     "output_type": "execute_result"
    }
   ],
   "source": [
    "role_df['len_of_enity'].value_counts()"
   ]
  },
  {
   "cell_type": "markdown",
   "metadata": {
    "id": "8X4rZyuFvtsS"
   },
   "source": [
    "Check : Does are there any overlapping roles"
   ]
  },
  {
   "cell_type": "code",
   "execution_count": null,
   "metadata": {
    "colab": {
     "base_uri": "https://localhost:8080/"
    },
    "executionInfo": {
     "elapsed": 20,
     "status": "ok",
     "timestamp": 1705607683773,
     "user": {
      "displayName": "srikaran elakurthy",
      "userId": "10476685350926501647"
     },
     "user_tz": 300
    },
    "id": "UUTV7hDavXCz",
    "outputId": "9a99d40b-238d-4b61-ae9f-6c746ee3ed81"
   },
   "outputs": [
    {
     "data": {
      "text/plain": [
       "[{('Status', ('180', '190')): [('Type', ('183', '190'))]},\n",
       " {('Status', ('25', '30')): [('Type', ('25', '30'))],\n",
       "  ('Method', ('32', '43')): [('Status', ('32', '37'))]},\n",
       " {('Method', ('29', '48')): [('Status', ('29', '34')),\n",
       "   ('Type', ('44', '48'))]},\n",
       " {('Type', ('64', '71')): [('Status', ('64', '71'))],\n",
       "  ('Method', ('90', '101')): [('Status', ('90', '95'))],\n",
       "  ('Type', ('105', '109')): [('Status', ('105', '109'))],\n",
       "  ('Status', ('118', '125')): [('Method', ('118', '125'))]},\n",
       " {('Method', ('28', '50')): [('Status', ('28', '33')),\n",
       "   ('Type', ('43', '50'))]},\n",
       " {('Method', ('28', '53')): [('Status', ('28', '33'))]},\n",
       " {('Method', ('37', '66')): [('Status', ('37', '50'))]},\n",
       " {('Method', ('47', '69')): [('Status', ('47', '52')),\n",
       "   ('Type', ('62', '69'))]},\n",
       " {('Method', ('20', '56')): [('Status', ('20', '25')),\n",
       "   ('Type', ('31', '34')),\n",
       "   ('Type', ('36', '40')),\n",
       "   ('Type', ('41', '48')),\n",
       "   ('Type', ('50', '56'))]},\n",
       " {('Status', ('62', '72')): [('Type', ('65', '72'))],\n",
       "  ('Status', ('74', '90')): [('Method', ('77', '90'))],\n",
       "  ('Method', ('126', '164')): [('Status', ('126', '131')),\n",
       "   ('Type', ('141', '145')),\n",
       "   ('Amount', ('150', '154')),\n",
       "   ('Type', ('155', '164'))]},\n",
       " {('Method', ('44', '74')): [('Type', ('55', '62')),\n",
       "   ('Temporal', ('63', '74'))]},\n",
       " {('Status', ('62', '76')): [('Method', ('65', '75'))],\n",
       "  ('Method', ('106', '128')): [('Status', ('106', '111'))]},\n",
       " {('Method', ('20', '51')): [('Status', ('20', '25')),\n",
       "   ('Type', ('31', '38')),\n",
       "   ('Type', ('43', '51'))]},\n",
       " {('Status', ('105', '119')): [('Type', ('108', '119'))]},\n",
       " {('Method', ('23', '46')): [('Status', ('23', '28'))]},\n",
       " {('Status', ('28', '37')): [('Type', ('31', '37'))],\n",
       "  ('Method', ('43', '82')): [('Status', ('43', '48'))]},\n",
       " {('Status', ('28', '38')): [('Type', ('31', '38'))],\n",
       "  ('Method', ('43', '63')): [('Status', ('43', '48')),\n",
       "   ('Type', ('58', '62'))]},\n",
       " {('Method', ('29', '65')): [('Status', ('29', '34')),\n",
       "   ('Type', ('44', '48')),\n",
       "   ('Amount', ('53', '56')),\n",
       "   ('Type', ('57', '65'))]},\n",
       " {('Method', ('37', '58')): [('Status', ('37', '46'))]},\n",
       " {('Method', ('36', '57')): [('Status', ('36', '41')),\n",
       "   ('Type', ('51', '57'))]},\n",
       " {('Method', ('62', '81')): [('Status', ('62', '67')), ('Type', ('77', '81'))],\n",
       "  ('Status', ('91', '98')): [('Method', ('91', '98'))]},\n",
       " {('Method', ('153', '185')): [('Status', ('153', '158')),\n",
       "   ('Type', ('168', '172')),\n",
       "   ('Type', ('177', '185'))]},\n",
       " {('Method', ('55', '82')): [('Type', ('69', '77'))]},\n",
       " {('Method', ('21', '84')): [('Type', ('48', '54')),\n",
       "   ('Type', ('56', '62')),\n",
       "   ('Amount', ('68', '69')),\n",
       "   ('Type', ('76', '84'))]},\n",
       " {('Method', ('16', '34')): [('Status', ('16', '21')),\n",
       "   ('Type', ('27', '34'))]},\n",
       " {('Status', ('75', '117')): [('Amount', ('97', '117'))]},\n",
       " {('Method', ('21', '37')): [('Status', ('21', '26'))]},\n",
       " {('Method', ('27', '117')): [('Status', ('27', '32')),\n",
       "   ('Type', ('42', '48')),\n",
       "   ('Type', ('53', '59')),\n",
       "   ('Amount', ('70', '79'))]},\n",
       " {('Method', ('27', '68')): [('Status', ('27', '32')),\n",
       "   ('Type', ('42', '45')),\n",
       "   ('Type', ('47', '50')),\n",
       "   ('Amount', ('56', '59')),\n",
       "   ('Type', ('60', '68'))]},\n",
       " {('Method', ('29', '48')): [('Status', ('29', '34'))]},\n",
       " {('Method', ('20', '43')): [('Status', ('20', '25')),\n",
       "   ('Type', ('36', '43'))]},\n",
       " {('Method', ('22', '42')): [('Status', ('22', '28')),\n",
       "   ('Type', ('38', '42'))]},\n",
       " {('Method', ('40', '62')): [('Status', ('40', '45'))],\n",
       "  ('Method', ('73', '80')): [('Status', ('73', '80'))]},\n",
       " {('Method', ('40', '62')): [('Status', ('40', '45')),\n",
       "   ('Type', ('55', '62'))]},\n",
       " {('Frequency', ('32', '42')): [('Status', ('32', '42'))]},\n",
       " {('Method', ('89', '107')): [('Status', ('89', '94'))]},\n",
       " {('Method', ('104', '163')): [('Status', ('104', '109')),\n",
       "   ('Type', ('127', '134')),\n",
       "   ('Amount', ('145', '155')),\n",
       "   ('Type', ('156', '163'))]},\n",
       " {('Method', ('44', '63')): [('Status', ('44', '49'))]},\n",
       " {('Method', ('28', '47')): [('Status', ('28', '47'))],\n",
       "  ('LivingStatus', ('833', '869')): [('Temporal', ('833', '845')),\n",
       "   ('MedicalCondition', ('851', '869'))]},\n",
       " {('Method', ('29', '40')): [('Status', ('29', '34'))]},\n",
       " {('Method', ('24', '45')): [('Status', ('24', '29'))]},\n",
       " {('Method', ('17', '103')): [('Status', ('17', '22'))],\n",
       "  ('Other', ('172', '199')): [('Type', ('172', '178'))]},\n",
       " {('Method', ('21', '65')): [('Status', ('21', '26'))]},\n",
       " {('Method', ('20', '42')): [('Status', ('20', '25')),\n",
       "   ('Type', ('35', '42'))]},\n",
       " {('Method', ('66', '134')): [('Status', ('66', '71'))]},\n",
       " {('Method', ('20', '31')): [('Status', ('20', '25'))]},\n",
       " {('Method', ('59', '78')): [('Status', ('59', '64')),\n",
       "   ('Type', ('74', '78'))]},\n",
       " {('Type', ('118', '125')): [('Status', ('118', '125'))]},\n",
       " {('Frequency', ('75', '87')): [('Status', ('75', '87'))]},\n",
       " {('Method', ('17', '73')): [('Status', ('17', '22')),\n",
       "   ('Type', ('28', '57')),\n",
       "   ('Type', ('59', '63'))]},\n",
       " {('Method', ('17', '57')): [('Status', ('17', '22')),\n",
       "   ('Amount', ('45', '48')),\n",
       "   ('Type', ('49', '57'))],\n",
       "  ('Status', ('107', '112')): [('Type', ('107', '112'))]},\n",
       " {('Status', ('28', '36')): [('Method', ('32', '36'))]},\n",
       " {('Status', ('24', '34')): [('Type', ('27', '34'))],\n",
       "  ('Method', ('39', '76')): [('Status', ('39', '44')),\n",
       "   ('Type', ('54', '61')),\n",
       "   ('Amount', ('66', '67')),\n",
       "   ('Type', ('68', '76'))]},\n",
       " {('Method', ('84', '91')): [('Status', ('84', '91'))]},\n",
       " {('Status', ('17', '24')): [('Type', ('17', '24'))],\n",
       "  ('Method', ('29', '44')): [('Status', ('29', '34'))]},\n",
       " {('Method', ('59', '78')): [('Status', ('59', '64')),\n",
       "   ('Type', ('74', '78'))]},\n",
       " {('Type', ('41', '49')): [('Status', ('41', '48'))]},\n",
       " {('Method', ('16', '38')): [('Status', ('16', '21'))]},\n",
       " {('Method', ('292', '370')): [('Amount', ('292', '295')),\n",
       "   ('Type', ('296', '304')),\n",
       "   ('Status', ('355', '369'))]},\n",
       " {('Method', ('29', '68')): [('Status', ('29', '34')),\n",
       "   ('Amount', ('40', '44')),\n",
       "   ('Type', ('45', '52'))],\n",
       "  ('Type', ('80', '87')): [('Status', ('80', '87'))]},\n",
       " {('Method', ('28', '39')): [('Status', ('28', '33'))]},\n",
       " {('Location', ('50', '80')): [('Type', ('54', '80'))]},\n",
       " {('Method', ('21', '44')): [('Status', ('21', '26')),\n",
       "   ('Type', ('36', '43'))]},\n",
       " {('Method', ('67', '85')): [('Type', ('82', '85'))],\n",
       "  ('Location', ('89', '95')): [('Status', ('89', '95'))]},\n",
       " {('Method', ('63', '85')): [('Status', ('63', '68')),\n",
       "   ('Type', ('78', '85'))]},\n",
       " {('Method', ('24', '108')): [('Status', ('24', '29')),\n",
       "   ('Amount', ('43', '54')),\n",
       "   ('Type', ('55', '61')),\n",
       "   ('Type', ('83', '90'))]},\n",
       " {('Method', ('28', '144')): [('Status', ('28', '33')),\n",
       "   ('Amount', ('47', '58')),\n",
       "   ('Type', ('59', '65')),\n",
       "   ('Amount', ('90', '101')),\n",
       "   ('Type', ('102', '108'))]},\n",
       " {('Status', ('29', '40')): [('Type', ('32', '39'))],\n",
       "  ('Method', ('41', '63')): [('Status', ('41', '46')),\n",
       "   ('Type', ('56', '63'))]},\n",
       " {('Method', ('24', '107')): [('Status', ('24', '29')),\n",
       "   ('Type', ('30', '33')),\n",
       "   ('Type', ('35', '38')),\n",
       "   ('Amount', ('42', '56')),\n",
       "   ('Amount', ('72', '86'))],\n",
       "  ('MedicalCondition', ('135', '190')): [('LivingStatus', ('135', '139'))]},\n",
       " {('Type', ('18', '25')): [('Status', ('18', '25'))]},\n",
       " {('Type', ('18', '25')): [('Status', ('18', '25'))]},\n",
       " {('Status', ('22', '32')): [('Type', ('25', '32'))]},\n",
       " {('Type', ('63', '73')): [('Amount', ('63', '64'))]},\n",
       " {('Method', ('29', '49')): [('Status', ('29', '34'))]},\n",
       " {('Status', ('20', '30')): [('Type', ('23', '30'))],\n",
       "  ('Status', ('99', '109')): [('Method', ('102', '109'))]},\n",
       " {('Type', ('144', '150')): [('Status', ('144', '150'))]},\n",
       " {('Method', ('164', '196')): [('Status', ('164', '169'))],\n",
       "  ('Status', ('333', '347')): [('Type', ('344', '347'))]},\n",
       " {('Method', ('148', '155')): [('Status', ('148', '155'))],\n",
       "  ('Status', ('317', '344')): [('QuitHistory', ('337', '344'))]},\n",
       " {('Method', ('29', '60')): [('Status', ('29', '34')), ('Type', ('52', '60'))],\n",
       "  ('Frequency', ('81', '93')): [('Status', ('81', '93'))]},\n",
       " {('Status', ('94', '104')): [('Method', ('94', '104'))],\n",
       "  ('Method', ('169', '253')): [('Status', ('169', '174'))]},\n",
       " {('Method', ('17', '104')): [('Status', ('25', '29')),\n",
       "   ('Type', ('30', '33')),\n",
       "   ('Type', ('35', '38')),\n",
       "   ('Amount', ('44', '46')),\n",
       "   ('Amount', ('49', '51')),\n",
       "   ('Amount', ('54', '56')),\n",
       "   ('Amount', ('59', '62')),\n",
       "   ('Type', ('71', '79')),\n",
       "   ('Amount', ('87', '97')),\n",
       "   ('Type', ('98', '103'))]},\n",
       " {('Status', ('92', '104')): [('Frequency', ('97', '104'))]},\n",
       " {('Status', ('86', '93')): [('Type', ('86', '93'))],\n",
       "  ('Method', ('124', '149')): [('Status', ('124', '129'))]},\n",
       " {('Method', ('111', '134')): [('Status', ('111', '116'))],\n",
       "  ('Method', ('145', '152')): [('Status', ('145', '152'))]},\n",
       " {('Frequency', ('219', '229')): [('Status', ('219', '229'))]},\n",
       " {('Frequency', ('137', '149')): [('Status', ('137', '149'))],\n",
       "  ('Status', ('167', '177')): [('Type', ('170', '177'))],\n",
       "  ('Method', ('202', '232')): [('Status', ('202', '207')),\n",
       "   ('Type', ('225', '232'))]},\n",
       " {('Method', ('303', '322')): [('Status', ('303', '308'))]},\n",
       " {('Method', ('96', '119')): [('Status', ('96', '101')),\n",
       "   ('Type', ('111', '119'))]},\n",
       " {('Status', ('29', '44')): [('Type', ('34', '43'))],\n",
       "  ('Status', ('49', '59')): [('Type', ('52', '59'))]},\n",
       " {('Method', ('95', '143')): [('Type', ('95', '119'))]},\n",
       " {('Type', ('186', '193')): [('Status', ('186', '193'))]},\n",
       " {('Status', ('28', '38')): [('Type', ('31', '38'))]},\n",
       " {('Status', ('28', '44')): [('Method', ('31', '44'))],\n",
       "  ('Status', ('95', '104')): [('Type', ('98', '104'))],\n",
       "  ('Method', ('109', '132')): [('Status', ('109', '114'))]},\n",
       " {('Type', ('45', '52')): [('Status', ('45', '52'))]},\n",
       " {('Method', ('179', '190')): [('Status', ('179', '184'))],\n",
       "  ('Status', ('195', '205')): [('Type', ('198', '205'))]},\n",
       " {('Method', ('19', '38')): [('Status', ('19', '24')), ('Type', ('34', '38'))],\n",
       "  ('Status', ('184', '207')): [('Method', ('184', '191'))],\n",
       "  ('Status', ('353', '365')): [('QuitHistory', ('358', '365'))],\n",
       "  ('Status', ('370', '394')): [('Frequency', ('370', '382')),\n",
       "   ('Amount', ('387', '394')),\n",
       "   ('Type', ('389', '393'))],\n",
       "  ('Amount', ('387', '394')): [('Type', ('389', '393'))]},\n",
       " {('Method', ('108', '143')): [('Status', ('108', '127'))],\n",
       "  ('Temporal', ('443', '463')): [('Status', ('443', '463'))]},\n",
       " {('Type', ('37', '44')): [('Status', ('37', '44'))]},\n",
       " {('Status', ('145', '168')): [('Frequency', ('150', '162'))]},\n",
       " {('Method', ('99', '120')): [('Status', ('99', '104'))]},\n",
       " {('Status', ('341', '359')): [('Temporal', ('341', '359'))]},\n",
       " {('Status', ('111', '119')): [('Frequency', ('111', '118'))]},\n",
       " {('Method', ('64', '88')): [('Status', ('64', '69'))]},\n",
       " {('Amount', ('163', '171')): [('Status', ('163', '171'))]},\n",
       " {('Type', ('7', '14')): [('Status', ('7', '14'))],\n",
       "  ('Method', ('19', '29')): [('Status', ('19', '23'))]},\n",
       " {('Type', ('16', '24')): [('Status', ('16', '24'))],\n",
       "  ('Type', ('29', '44')): [('Status', ('29', '44'))]},\n",
       " {('Type', ('23', '30')): [('Status', ('23', '30'))],\n",
       "  ('Method', ('35', '42')): [('Status', ('35', '42'))]},\n",
       " {('Method', ('141', '145')): [('Status', ('141', '145'))]},\n",
       " {('Status', ('29', '39')): [('Type', ('34', '39'))],\n",
       "  ('Method', ('45', '56')): [('Status', ('45', '50'))]},\n",
       " {('Method', ('20', '38')): [('Status', ('20', '30')),\n",
       "   ('Type', ('31', '38'))]},\n",
       " {('Status', ('162', '184')): [('Amount', ('162', '173'))]},\n",
       " {('Status', ('38', '45')): [('Type', ('38', '45'))],\n",
       "  ('Amount', ('53', '67')): [('Type', ('60', '67'))]},\n",
       " {('Status', ('43', '54')): [('Method', ('46', '54'))]},\n",
       " {('Status', ('29', '39')): [('Type', ('32', '39'))]},\n",
       " {('Type', ('45', '52')): [('Status', ('45', '52'))]},\n",
       " {('Status', ('91', '102')): [('Type', ('94', '102'))],\n",
       "  ('Method', ('107', '118')): [('Status', ('107', '112'))],\n",
       "  ('Method', ('128', '135')): [('Status', ('128', '135'))]},\n",
       " {('Status', ('127', '138')): [('Method', ('131', '138'))]},\n",
       " {('Type', ('68', '100')): [('Status', ('68', '72'))],\n",
       "  ('Type', ('121', '136')): [('Status', ('121', '136'))]},\n",
       " {('Method', ('45', '52')): [('Status', ('45', '52'))]},\n",
       " {('Status', ('75', '86')): [('Temporal', ('75', '86'))]},\n",
       " {('Frequency', ('39', '51')): [('Status', ('39', '51'))]},\n",
       " {('Status', ('56', '76')): [('QuitHistory', ('69', '76'))],\n",
       "  ('Frequency', ('78', '86')): [('Status', ('83', '86'))],\n",
       "  ('Method', ('99', '126')): [('Status', ('99', '104')),\n",
       "   ('Location', ('105', '112')),\n",
       "   ('Type', ('122', '126'))]},\n",
       " {('Type', ('17', '24')): [('Status', ('17', '24'))],\n",
       "  ('Method', ('134', '140')): [('Status', ('134', '140'))],\n",
       "  ('Status', ('141', '152')): [('Temporal', ('141', '151'))]},\n",
       " {('Method', ('19', '38')): [('Status', ('19', '24')),\n",
       "   ('Type', ('34', '38')),\n",
       "   ('Type', ('34', '38')),\n",
       "   ('Status', ('34', '38'))],\n",
       "  ('Type', ('34', '38')): [('Type', ('34', '38')),\n",
       "   ('Status', ('34', '38')),\n",
       "   ('Status', ('34', '38'))]},\n",
       " {('Method', ('21', '45')): [('Status', ('21', '26'))]},\n",
       " {('Method', ('20', '44')): [('Status', ('20', '25'))]},\n",
       " {('Type', ('46', '53')): [('Status', ('46', '53'))]},\n",
       " {('Status', ('29', '39')): [('Type', ('32', '39'))],\n",
       "  ('Method', ('44', '65')): [('Status', ('44', '49')),\n",
       "   ('Type', ('59', '65'))]},\n",
       " {('Method', ('43', '73')): [('Type', ('66', '73'))]},\n",
       " {('Method', ('134', '153')): [('Status', ('137', '142'))]},\n",
       " {('Method', ('67', '72')): [('Status', ('67', '72'))]},\n",
       " {('Temporal', ('123', '160')): [('Status', ('144', '151')),\n",
       "   ('Type', ('152', '160'))]},\n",
       " {('LivingStatus', ('51', '93')): [('Amount', ('90', '93'))],\n",
       "  ('MedicalCondition', ('90', '144')): [('Amount', ('90', '93')),\n",
       "   ('LivingStatus', ('102', '144'))],\n",
       "  ('MedicalCondition', ('165', '190')): [('LivingStatus', ('170', '190'))]},\n",
       " {('Method', ('41', '52')): [('Status', ('41', '46'))]},\n",
       " {('Method', ('29', '54')): [('Status', ('29', '34'))]},\n",
       " {('Status', ('216', '232')): [('Method', ('225', '232'))]},\n",
       " {('Type', ('24', '37')): [('Status', ('24', '27'))]},\n",
       " {('Status', ('29', '39')): [('Type', ('32', '39'))],\n",
       "  ('Status', ('45', '65')): [('Type', ('51', '65'))]},\n",
       " {('Status', ('28', '40')): [('Method', ('33', '40'))]},\n",
       " {('Status', ('131', '138')): [('Type', ('131', '138'))]},\n",
       " {('Type', ('183', '187')): [('Status', ('183', '187'))]},\n",
       " {('Status', ('209', '219')): [('Type', ('212', '219'))]},\n",
       " {('Status', ('105', '119')): [('ExposureHistory', ('105', '119'))]},\n",
       " {('Frequency', ('20', '32')): [('Status', ('20', '32'))],\n",
       "  ('Status', ('117', '128')): [('Temporal', ('117', '128'))]},\n",
       " {('Method', ('100', '107')): [('Status', ('100', '107'))],\n",
       "  ('Type', ('243', '256')): [('Method', ('243', '245'))]}]"
      ]
     },
     "execution_count": 29,
     "metadata": {},
     "output_type": "execute_result"
    }
   ],
   "source": [
    "overlapping_roles_list=[]\n",
    "encompassing_list=[]\n",
    "compassed_by_list=[]\n",
    "for ele in annotated_data:\n",
    "  overlaps=role_overlap(ele['role_list'])\n",
    "  if len(overlaps)>0:\n",
    "    overlapping_roles_list.append(overlaps)\n",
    "    for key, value in overlaps.items():\n",
    "      encompassing_list.append(key)\n",
    "      compassed_by_list.extend(value)\n",
    "overlapping_roles_list"
   ]
  },
  {
   "cell_type": "code",
   "execution_count": null,
   "metadata": {
    "colab": {
     "base_uri": "https://localhost:8080/"
    },
    "executionInfo": {
     "elapsed": 627,
     "status": "ok",
     "timestamp": 1705617092689,
     "user": {
      "displayName": "srikaran elakurthy",
      "userId": "10476685350926501647"
     },
     "user_tz": 300
    },
    "id": "FHfETkczrh8x",
    "outputId": "868b77c4-e12b-482a-ce1f-7ea467fc2c16"
   },
   "outputs": [
    {
     "data": {
      "text/plain": [
       "Counter({'Status': 187,\n",
       "         'Type': 130,\n",
       "         'Method': 114,\n",
       "         'Amount': 29,\n",
       "         'Temporal': 8,\n",
       "         'Frequency': 12,\n",
       "         'LivingStatus': 5,\n",
       "         'MedicalCondition': 4,\n",
       "         'Other': 1,\n",
       "         'Location': 3,\n",
       "         'QuitHistory': 3,\n",
       "         'ExposureHistory': 1})"
      ]
     },
     "execution_count": 40,
     "metadata": {},
     "output_type": "execute_result"
    }
   ],
   "source": [
    "roles_overlap_freq=[]\n",
    "role_freq_dict = {}\n",
    "for role_dict in overlapping_roles_list:\n",
    "  for key_role in role_dict.keys():\n",
    "    roles_overlap_freq.append(key_role[0])\n",
    "  for value_list in role_dict.values():\n",
    "    for value_role in value_list:\n",
    "      roles_overlap_freq.append(value_role[0])\n",
    "\n",
    "collections.Counter(roles_overlap_freq)\n"
   ]
  },
  {
   "cell_type": "code",
   "execution_count": null,
   "metadata": {
    "colab": {
     "base_uri": "https://localhost:8080/"
    },
    "executionInfo": {
     "elapsed": 432,
     "status": "ok",
     "timestamp": 1705616851741,
     "user": {
      "displayName": "srikaran elakurthy",
      "userId": "10476685350926501647"
     },
     "user_tz": 300
    },
    "id": "ee3cbmaUr63t",
    "outputId": "c687ffd4-6dba-47df-dfcb-75df3d5c3bb0"
   },
   "outputs": [
    {
     "data": {
      "text/plain": [
       "{('Status', ('180', '190')): [('Type', ('183', '190'))]}"
      ]
     },
     "execution_count": 39,
     "metadata": {},
     "output_type": "execute_result"
    }
   ],
   "source": [
    "overlapping_roles_list[0]"
   ]
  },
  {
   "cell_type": "code",
   "execution_count": null,
   "metadata": {
    "colab": {
     "base_uri": "https://localhost:8080/"
    },
    "executionInfo": {
     "elapsed": 360,
     "status": "ok",
     "timestamp": 1705607684121,
     "user": {
      "displayName": "srikaran elakurthy",
      "userId": "10476685350926501647"
     },
     "user_tz": 300
    },
    "id": "mSDjFW07tMiI",
    "outputId": "6b3f25de-801a-494d-d068-98871518bf7a"
   },
   "outputs": [
    {
     "data": {
      "text/plain": [
       "145"
      ]
     },
     "execution_count": 30,
     "metadata": {},
     "output_type": "execute_result"
    }
   ],
   "source": [
    "len(overlapping_roles_list)"
   ]
  },
  {
   "cell_type": "code",
   "execution_count": null,
   "metadata": {
    "colab": {
     "base_uri": "https://localhost:8080/"
    },
    "executionInfo": {
     "elapsed": 35,
     "status": "ok",
     "timestamp": 1705607684121,
     "user": {
      "displayName": "srikaran elakurthy",
      "userId": "10476685350926501647"
     },
     "user_tz": 300
    },
    "id": "qosik7ofzAy5",
    "outputId": "4841c215-5593-41ec-a2dd-476148c4a354"
   },
   "outputs": [
    {
     "data": {
      "text/plain": [
       "Counter({('Status', ('180', '190')): 1,\n",
       "         ('Status', ('25', '30')): 1,\n",
       "         ('Method', ('32', '43')): 1,\n",
       "         ('Method', ('29', '48')): 2,\n",
       "         ('Type', ('64', '71')): 1,\n",
       "         ('Method', ('90', '101')): 1,\n",
       "         ('Type', ('105', '109')): 1,\n",
       "         ('Status', ('118', '125')): 1,\n",
       "         ('Method', ('28', '50')): 1,\n",
       "         ('Method', ('28', '53')): 1,\n",
       "         ('Method', ('37', '66')): 1,\n",
       "         ('Method', ('47', '69')): 1,\n",
       "         ('Method', ('20', '56')): 1,\n",
       "         ('Status', ('62', '72')): 1,\n",
       "         ('Status', ('74', '90')): 1,\n",
       "         ('Method', ('126', '164')): 1,\n",
       "         ('Method', ('44', '74')): 1,\n",
       "         ('Status', ('62', '76')): 1,\n",
       "         ('Method', ('106', '128')): 1,\n",
       "         ('Method', ('20', '51')): 1,\n",
       "         ('Status', ('105', '119')): 2,\n",
       "         ('Method', ('23', '46')): 1,\n",
       "         ('Status', ('28', '37')): 1,\n",
       "         ('Method', ('43', '82')): 1,\n",
       "         ('Status', ('28', '38')): 2,\n",
       "         ('Method', ('43', '63')): 1,\n",
       "         ('Method', ('29', '65')): 1,\n",
       "         ('Method', ('37', '58')): 1,\n",
       "         ('Method', ('36', '57')): 1,\n",
       "         ('Method', ('62', '81')): 1,\n",
       "         ('Status', ('91', '98')): 1,\n",
       "         ('Method', ('153', '185')): 1,\n",
       "         ('Method', ('55', '82')): 1,\n",
       "         ('Method', ('21', '84')): 1,\n",
       "         ('Method', ('16', '34')): 1,\n",
       "         ('Status', ('75', '117')): 1,\n",
       "         ('Method', ('21', '37')): 1,\n",
       "         ('Method', ('27', '117')): 1,\n",
       "         ('Method', ('27', '68')): 1,\n",
       "         ('Method', ('20', '43')): 1,\n",
       "         ('Method', ('22', '42')): 1,\n",
       "         ('Method', ('40', '62')): 2,\n",
       "         ('Method', ('73', '80')): 1,\n",
       "         ('Frequency', ('32', '42')): 1,\n",
       "         ('Method', ('89', '107')): 1,\n",
       "         ('Method', ('104', '163')): 1,\n",
       "         ('Method', ('44', '63')): 1,\n",
       "         ('Method', ('28', '47')): 1,\n",
       "         ('LivingStatus', ('833', '869')): 1,\n",
       "         ('Method', ('29', '40')): 1,\n",
       "         ('Method', ('24', '45')): 1,\n",
       "         ('Method', ('17', '103')): 1,\n",
       "         ('Other', ('172', '199')): 1,\n",
       "         ('Method', ('21', '65')): 1,\n",
       "         ('Method', ('20', '42')): 1,\n",
       "         ('Method', ('66', '134')): 1,\n",
       "         ('Method', ('20', '31')): 1,\n",
       "         ('Method', ('59', '78')): 2,\n",
       "         ('Type', ('118', '125')): 1,\n",
       "         ('Frequency', ('75', '87')): 1,\n",
       "         ('Method', ('17', '73')): 1,\n",
       "         ('Method', ('17', '57')): 1,\n",
       "         ('Status', ('107', '112')): 1,\n",
       "         ('Status', ('28', '36')): 1,\n",
       "         ('Status', ('24', '34')): 1,\n",
       "         ('Method', ('39', '76')): 1,\n",
       "         ('Method', ('84', '91')): 1,\n",
       "         ('Status', ('17', '24')): 1,\n",
       "         ('Method', ('29', '44')): 1,\n",
       "         ('Type', ('41', '49')): 1,\n",
       "         ('Method', ('16', '38')): 1,\n",
       "         ('Method', ('292', '370')): 1,\n",
       "         ('Method', ('29', '68')): 1,\n",
       "         ('Type', ('80', '87')): 1,\n",
       "         ('Method', ('28', '39')): 1,\n",
       "         ('Location', ('50', '80')): 1,\n",
       "         ('Method', ('21', '44')): 1,\n",
       "         ('Method', ('67', '85')): 1,\n",
       "         ('Location', ('89', '95')): 1,\n",
       "         ('Method', ('63', '85')): 1,\n",
       "         ('Method', ('24', '108')): 1,\n",
       "         ('Method', ('28', '144')): 1,\n",
       "         ('Status', ('29', '40')): 1,\n",
       "         ('Method', ('41', '63')): 1,\n",
       "         ('Method', ('24', '107')): 1,\n",
       "         ('MedicalCondition', ('135', '190')): 1,\n",
       "         ('Type', ('18', '25')): 2,\n",
       "         ('Status', ('22', '32')): 1,\n",
       "         ('Type', ('63', '73')): 1,\n",
       "         ('Method', ('29', '49')): 1,\n",
       "         ('Status', ('20', '30')): 1,\n",
       "         ('Status', ('99', '109')): 1,\n",
       "         ('Type', ('144', '150')): 1,\n",
       "         ('Method', ('164', '196')): 1,\n",
       "         ('Status', ('333', '347')): 1,\n",
       "         ('Method', ('148', '155')): 1,\n",
       "         ('Status', ('317', '344')): 1,\n",
       "         ('Method', ('29', '60')): 1,\n",
       "         ('Frequency', ('81', '93')): 1,\n",
       "         ('Status', ('94', '104')): 1,\n",
       "         ('Method', ('169', '253')): 1,\n",
       "         ('Method', ('17', '104')): 1,\n",
       "         ('Status', ('92', '104')): 1,\n",
       "         ('Status', ('86', '93')): 1,\n",
       "         ('Method', ('124', '149')): 1,\n",
       "         ('Method', ('111', '134')): 1,\n",
       "         ('Method', ('145', '152')): 1,\n",
       "         ('Frequency', ('219', '229')): 1,\n",
       "         ('Frequency', ('137', '149')): 1,\n",
       "         ('Status', ('167', '177')): 1,\n",
       "         ('Method', ('202', '232')): 1,\n",
       "         ('Method', ('303', '322')): 1,\n",
       "         ('Method', ('96', '119')): 1,\n",
       "         ('Status', ('29', '44')): 1,\n",
       "         ('Status', ('49', '59')): 1,\n",
       "         ('Method', ('95', '143')): 1,\n",
       "         ('Type', ('186', '193')): 1,\n",
       "         ('Status', ('28', '44')): 1,\n",
       "         ('Status', ('95', '104')): 1,\n",
       "         ('Method', ('109', '132')): 1,\n",
       "         ('Type', ('45', '52')): 2,\n",
       "         ('Method', ('179', '190')): 1,\n",
       "         ('Status', ('195', '205')): 1,\n",
       "         ('Method', ('19', '38')): 2,\n",
       "         ('Status', ('184', '207')): 1,\n",
       "         ('Status', ('353', '365')): 1,\n",
       "         ('Status', ('370', '394')): 1,\n",
       "         ('Amount', ('387', '394')): 1,\n",
       "         ('Method', ('108', '143')): 1,\n",
       "         ('Temporal', ('443', '463')): 1,\n",
       "         ('Type', ('37', '44')): 1,\n",
       "         ('Status', ('145', '168')): 1,\n",
       "         ('Method', ('99', '120')): 1,\n",
       "         ('Status', ('341', '359')): 1,\n",
       "         ('Status', ('111', '119')): 1,\n",
       "         ('Method', ('64', '88')): 1,\n",
       "         ('Amount', ('163', '171')): 1,\n",
       "         ('Type', ('7', '14')): 1,\n",
       "         ('Method', ('19', '29')): 1,\n",
       "         ('Type', ('16', '24')): 1,\n",
       "         ('Type', ('29', '44')): 1,\n",
       "         ('Type', ('23', '30')): 1,\n",
       "         ('Method', ('35', '42')): 1,\n",
       "         ('Method', ('141', '145')): 1,\n",
       "         ('Status', ('29', '39')): 4,\n",
       "         ('Method', ('45', '56')): 1,\n",
       "         ('Method', ('20', '38')): 1,\n",
       "         ('Status', ('162', '184')): 1,\n",
       "         ('Status', ('38', '45')): 1,\n",
       "         ('Amount', ('53', '67')): 1,\n",
       "         ('Status', ('43', '54')): 1,\n",
       "         ('Status', ('91', '102')): 1,\n",
       "         ('Method', ('107', '118')): 1,\n",
       "         ('Method', ('128', '135')): 1,\n",
       "         ('Status', ('127', '138')): 1,\n",
       "         ('Type', ('68', '100')): 1,\n",
       "         ('Type', ('121', '136')): 1,\n",
       "         ('Method', ('45', '52')): 1,\n",
       "         ('Status', ('75', '86')): 1,\n",
       "         ('Frequency', ('39', '51')): 1,\n",
       "         ('Status', ('56', '76')): 1,\n",
       "         ('Frequency', ('78', '86')): 1,\n",
       "         ('Method', ('99', '126')): 1,\n",
       "         ('Type', ('17', '24')): 1,\n",
       "         ('Method', ('134', '140')): 1,\n",
       "         ('Status', ('141', '152')): 1,\n",
       "         ('Type', ('34', '38')): 1,\n",
       "         ('Method', ('21', '45')): 1,\n",
       "         ('Method', ('20', '44')): 1,\n",
       "         ('Type', ('46', '53')): 1,\n",
       "         ('Method', ('44', '65')): 1,\n",
       "         ('Method', ('43', '73')): 1,\n",
       "         ('Method', ('134', '153')): 1,\n",
       "         ('Method', ('67', '72')): 1,\n",
       "         ('Temporal', ('123', '160')): 1,\n",
       "         ('LivingStatus', ('51', '93')): 1,\n",
       "         ('MedicalCondition', ('90', '144')): 1,\n",
       "         ('MedicalCondition', ('165', '190')): 1,\n",
       "         ('Method', ('41', '52')): 1,\n",
       "         ('Method', ('29', '54')): 1,\n",
       "         ('Status', ('216', '232')): 1,\n",
       "         ('Type', ('24', '37')): 1,\n",
       "         ('Status', ('45', '65')): 1,\n",
       "         ('Status', ('28', '40')): 1,\n",
       "         ('Status', ('131', '138')): 1,\n",
       "         ('Type', ('183', '187')): 1,\n",
       "         ('Status', ('209', '219')): 1,\n",
       "         ('Frequency', ('20', '32')): 1,\n",
       "         ('Status', ('117', '128')): 1,\n",
       "         ('Method', ('100', '107')): 1,\n",
       "         ('Type', ('243', '256')): 1})"
      ]
     },
     "execution_count": 31,
     "metadata": {},
     "output_type": "execute_result"
    }
   ],
   "source": [
    "collections.Counter(encompassing_list)"
   ]
  },
  {
   "cell_type": "code",
   "execution_count": null,
   "metadata": {
    "colab": {
     "base_uri": "https://localhost:8080/"
    },
    "executionInfo": {
     "elapsed": 34,
     "status": "ok",
     "timestamp": 1705607684121,
     "user": {
      "displayName": "srikaran elakurthy",
      "userId": "10476685350926501647"
     },
     "user_tz": 300
    },
    "id": "L1_1zToGzT1d",
    "outputId": "77073f56-3aa3-45f5-97fe-91ba3d932ca6"
   },
   "outputs": [
    {
     "data": {
      "text/plain": [
       "Counter({('Type', ('183', '190')): 1,\n",
       "         ('Type', ('25', '30')): 1,\n",
       "         ('Status', ('32', '37')): 1,\n",
       "         ('Status', ('29', '34')): 9,\n",
       "         ('Type', ('44', '48')): 2,\n",
       "         ('Status', ('64', '71')): 1,\n",
       "         ('Status', ('90', '95')): 1,\n",
       "         ('Status', ('105', '109')): 1,\n",
       "         ('Method', ('118', '125')): 1,\n",
       "         ('Status', ('28', '33')): 4,\n",
       "         ('Type', ('43', '50')): 1,\n",
       "         ('Status', ('37', '50')): 1,\n",
       "         ('Status', ('47', '52')): 1,\n",
       "         ('Type', ('62', '69')): 1,\n",
       "         ('Status', ('20', '25')): 6,\n",
       "         ('Type', ('31', '34')): 1,\n",
       "         ('Type', ('36', '40')): 1,\n",
       "         ('Type', ('41', '48')): 1,\n",
       "         ('Type', ('50', '56')): 1,\n",
       "         ('Type', ('65', '72')): 1,\n",
       "         ('Method', ('77', '90')): 1,\n",
       "         ('Status', ('126', '131')): 1,\n",
       "         ('Type', ('141', '145')): 1,\n",
       "         ('Amount', ('150', '154')): 1,\n",
       "         ('Type', ('155', '164')): 1,\n",
       "         ('Type', ('55', '62')): 2,\n",
       "         ('Temporal', ('63', '74')): 1,\n",
       "         ('Method', ('65', '75')): 1,\n",
       "         ('Status', ('106', '111')): 1,\n",
       "         ('Type', ('31', '38')): 4,\n",
       "         ('Type', ('43', '51')): 1,\n",
       "         ('Type', ('108', '119')): 1,\n",
       "         ('Status', ('23', '28')): 1,\n",
       "         ('Type', ('31', '37')): 1,\n",
       "         ('Status', ('43', '48')): 2,\n",
       "         ('Type', ('58', '62')): 1,\n",
       "         ('Amount', ('53', '56')): 1,\n",
       "         ('Type', ('57', '65')): 1,\n",
       "         ('Status', ('37', '46')): 1,\n",
       "         ('Status', ('36', '41')): 1,\n",
       "         ('Type', ('51', '57')): 1,\n",
       "         ('Status', ('62', '67')): 1,\n",
       "         ('Type', ('77', '81')): 1,\n",
       "         ('Method', ('91', '98')): 1,\n",
       "         ('Status', ('153', '158')): 1,\n",
       "         ('Type', ('168', '172')): 1,\n",
       "         ('Type', ('177', '185')): 1,\n",
       "         ('Type', ('69', '77')): 1,\n",
       "         ('Type', ('48', '54')): 1,\n",
       "         ('Type', ('56', '62')): 1,\n",
       "         ('Amount', ('68', '69')): 1,\n",
       "         ('Type', ('76', '84')): 1,\n",
       "         ('Status', ('16', '21')): 2,\n",
       "         ('Type', ('27', '34')): 2,\n",
       "         ('Amount', ('97', '117')): 1,\n",
       "         ('Status', ('21', '26')): 4,\n",
       "         ('Status', ('27', '32')): 2,\n",
       "         ('Type', ('42', '48')): 1,\n",
       "         ('Type', ('53', '59')): 1,\n",
       "         ('Amount', ('70', '79')): 1,\n",
       "         ('Type', ('42', '45')): 1,\n",
       "         ('Type', ('47', '50')): 1,\n",
       "         ('Amount', ('56', '59')): 1,\n",
       "         ('Type', ('60', '68')): 1,\n",
       "         ('Type', ('36', '43')): 2,\n",
       "         ('Status', ('22', '28')): 1,\n",
       "         ('Type', ('38', '42')): 1,\n",
       "         ('Status', ('40', '45')): 2,\n",
       "         ('Status', ('73', '80')): 1,\n",
       "         ('Status', ('32', '42')): 1,\n",
       "         ('Status', ('89', '94')): 1,\n",
       "         ('Status', ('104', '109')): 1,\n",
       "         ('Type', ('127', '134')): 1,\n",
       "         ('Amount', ('145', '155')): 1,\n",
       "         ('Type', ('156', '163')): 1,\n",
       "         ('Status', ('44', '49')): 2,\n",
       "         ('Status', ('28', '47')): 1,\n",
       "         ('Temporal', ('833', '845')): 1,\n",
       "         ('MedicalCondition', ('851', '869')): 1,\n",
       "         ('Status', ('24', '29')): 3,\n",
       "         ('Status', ('17', '22')): 3,\n",
       "         ('Type', ('172', '178')): 1,\n",
       "         ('Type', ('35', '42')): 1,\n",
       "         ('Status', ('66', '71')): 1,\n",
       "         ('Status', ('59', '64')): 2,\n",
       "         ('Type', ('74', '78')): 2,\n",
       "         ('Status', ('118', '125')): 1,\n",
       "         ('Status', ('75', '87')): 1,\n",
       "         ('Type', ('28', '57')): 1,\n",
       "         ('Type', ('59', '63')): 1,\n",
       "         ('Amount', ('45', '48')): 1,\n",
       "         ('Type', ('49', '57')): 1,\n",
       "         ('Type', ('107', '112')): 1,\n",
       "         ('Method', ('32', '36')): 1,\n",
       "         ('Status', ('39', '44')): 1,\n",
       "         ('Type', ('54', '61')): 1,\n",
       "         ('Amount', ('66', '67')): 1,\n",
       "         ('Type', ('68', '76')): 1,\n",
       "         ('Status', ('84', '91')): 1,\n",
       "         ('Type', ('17', '24')): 1,\n",
       "         ('Status', ('41', '48')): 1,\n",
       "         ('Amount', ('292', '295')): 1,\n",
       "         ('Type', ('296', '304')): 1,\n",
       "         ('Status', ('355', '369')): 1,\n",
       "         ('Amount', ('40', '44')): 1,\n",
       "         ('Type', ('45', '52')): 1,\n",
       "         ('Status', ('80', '87')): 1,\n",
       "         ('Type', ('54', '80')): 1,\n",
       "         ('Type', ('82', '85')): 1,\n",
       "         ('Status', ('89', '95')): 1,\n",
       "         ('Status', ('63', '68')): 1,\n",
       "         ('Type', ('78', '85')): 1,\n",
       "         ('Amount', ('43', '54')): 1,\n",
       "         ('Type', ('55', '61')): 1,\n",
       "         ('Type', ('83', '90')): 1,\n",
       "         ('Amount', ('47', '58')): 1,\n",
       "         ('Type', ('59', '65')): 2,\n",
       "         ('Amount', ('90', '101')): 1,\n",
       "         ('Type', ('102', '108')): 1,\n",
       "         ('Type', ('32', '39')): 4,\n",
       "         ('Status', ('41', '46')): 2,\n",
       "         ('Type', ('56', '63')): 1,\n",
       "         ('Type', ('30', '33')): 2,\n",
       "         ('Type', ('35', '38')): 2,\n",
       "         ('Amount', ('42', '56')): 1,\n",
       "         ('Amount', ('72', '86')): 1,\n",
       "         ('LivingStatus', ('135', '139')): 1,\n",
       "         ('Status', ('18', '25')): 2,\n",
       "         ('Type', ('25', '32')): 1,\n",
       "         ('Amount', ('63', '64')): 1,\n",
       "         ('Type', ('23', '30')): 1,\n",
       "         ('Method', ('102', '109')): 1,\n",
       "         ('Status', ('144', '150')): 1,\n",
       "         ('Status', ('164', '169')): 1,\n",
       "         ('Type', ('344', '347')): 1,\n",
       "         ('Status', ('148', '155')): 1,\n",
       "         ('QuitHistory', ('337', '344')): 1,\n",
       "         ('Type', ('52', '60')): 1,\n",
       "         ('Status', ('81', '93')): 1,\n",
       "         ('Method', ('94', '104')): 1,\n",
       "         ('Status', ('169', '174')): 1,\n",
       "         ('Status', ('25', '29')): 1,\n",
       "         ('Amount', ('44', '46')): 1,\n",
       "         ('Amount', ('49', '51')): 1,\n",
       "         ('Amount', ('54', '56')): 1,\n",
       "         ('Amount', ('59', '62')): 1,\n",
       "         ('Type', ('71', '79')): 1,\n",
       "         ('Amount', ('87', '97')): 1,\n",
       "         ('Type', ('98', '103')): 1,\n",
       "         ('Frequency', ('97', '104')): 1,\n",
       "         ('Type', ('86', '93')): 1,\n",
       "         ('Status', ('124', '129')): 1,\n",
       "         ('Status', ('111', '116')): 1,\n",
       "         ('Status', ('145', '152')): 1,\n",
       "         ('Status', ('219', '229')): 1,\n",
       "         ('Status', ('137', '149')): 1,\n",
       "         ('Type', ('170', '177')): 1,\n",
       "         ('Status', ('202', '207')): 1,\n",
       "         ('Type', ('225', '232')): 1,\n",
       "         ('Status', ('303', '308')): 1,\n",
       "         ('Status', ('96', '101')): 1,\n",
       "         ('Type', ('111', '119')): 1,\n",
       "         ('Type', ('34', '43')): 1,\n",
       "         ('Type', ('52', '59')): 1,\n",
       "         ('Type', ('95', '119')): 1,\n",
       "         ('Status', ('186', '193')): 1,\n",
       "         ('Method', ('31', '44')): 1,\n",
       "         ('Type', ('98', '104')): 1,\n",
       "         ('Status', ('109', '114')): 1,\n",
       "         ('Status', ('45', '52')): 3,\n",
       "         ('Status', ('179', '184')): 1,\n",
       "         ('Type', ('198', '205')): 1,\n",
       "         ('Status', ('19', '24')): 2,\n",
       "         ('Type', ('34', '38')): 4,\n",
       "         ('Method', ('184', '191')): 1,\n",
       "         ('QuitHistory', ('358', '365')): 1,\n",
       "         ('Frequency', ('370', '382')): 1,\n",
       "         ('Amount', ('387', '394')): 1,\n",
       "         ('Type', ('389', '393')): 2,\n",
       "         ('Status', ('108', '127')): 1,\n",
       "         ('Status', ('443', '463')): 1,\n",
       "         ('Status', ('37', '44')): 1,\n",
       "         ('Frequency', ('150', '162')): 1,\n",
       "         ('Status', ('99', '104')): 2,\n",
       "         ('Temporal', ('341', '359')): 1,\n",
       "         ('Frequency', ('111', '118')): 1,\n",
       "         ('Status', ('64', '69')): 1,\n",
       "         ('Status', ('163', '171')): 1,\n",
       "         ('Status', ('7', '14')): 1,\n",
       "         ('Status', ('19', '23')): 1,\n",
       "         ('Status', ('16', '24')): 1,\n",
       "         ('Status', ('29', '44')): 1,\n",
       "         ('Status', ('23', '30')): 1,\n",
       "         ('Status', ('35', '42')): 1,\n",
       "         ('Status', ('141', '145')): 1,\n",
       "         ('Type', ('34', '39')): 1,\n",
       "         ('Status', ('45', '50')): 1,\n",
       "         ('Status', ('20', '30')): 1,\n",
       "         ('Amount', ('162', '173')): 1,\n",
       "         ('Type', ('38', '45')): 1,\n",
       "         ('Type', ('60', '67')): 1,\n",
       "         ('Method', ('46', '54')): 1,\n",
       "         ('Type', ('94', '102')): 1,\n",
       "         ('Status', ('107', '112')): 1,\n",
       "         ('Status', ('128', '135')): 1,\n",
       "         ('Method', ('131', '138')): 1,\n",
       "         ('Status', ('68', '72')): 1,\n",
       "         ('Status', ('121', '136')): 1,\n",
       "         ('Temporal', ('75', '86')): 1,\n",
       "         ('Status', ('39', '51')): 1,\n",
       "         ('QuitHistory', ('69', '76')): 1,\n",
       "         ('Status', ('83', '86')): 1,\n",
       "         ('Location', ('105', '112')): 1,\n",
       "         ('Type', ('122', '126')): 1,\n",
       "         ('Status', ('17', '24')): 1,\n",
       "         ('Status', ('134', '140')): 1,\n",
       "         ('Temporal', ('141', '151')): 1,\n",
       "         ('Status', ('34', '38')): 3,\n",
       "         ('Status', ('46', '53')): 1,\n",
       "         ('Type', ('66', '73')): 1,\n",
       "         ('Status', ('137', '142')): 1,\n",
       "         ('Status', ('67', '72')): 1,\n",
       "         ('Status', ('144', '151')): 1,\n",
       "         ('Type', ('152', '160')): 1,\n",
       "         ('Amount', ('90', '93')): 2,\n",
       "         ('LivingStatus', ('102', '144')): 1,\n",
       "         ('LivingStatus', ('170', '190')): 1,\n",
       "         ('Method', ('225', '232')): 1,\n",
       "         ('Status', ('24', '27')): 1,\n",
       "         ('Type', ('51', '65')): 1,\n",
       "         ('Method', ('33', '40')): 1,\n",
       "         ('Type', ('131', '138')): 1,\n",
       "         ('Status', ('183', '187')): 1,\n",
       "         ('Type', ('212', '219')): 1,\n",
       "         ('ExposureHistory', ('105', '119')): 1,\n",
       "         ('Status', ('20', '32')): 1,\n",
       "         ('Temporal', ('117', '128')): 1,\n",
       "         ('Status', ('100', '107')): 1,\n",
       "         ('Method', ('243', '245')): 1})"
      ]
     },
     "execution_count": 32,
     "metadata": {},
     "output_type": "execute_result"
    }
   ],
   "source": [
    "collections.Counter(compassed_by_list)"
   ]
  },
  {
   "cell_type": "markdown",
   "metadata": {
    "id": "lwArPWPjyZPB"
   },
   "source": [
    "### Event analysis"
   ]
  },
  {
   "cell_type": "markdown",
   "metadata": {
    "id": "5rAd19RnOTS7"
   },
   "source": [
    "Check does a role gets shared between entities"
   ]
  },
  {
   "cell_type": "code",
   "execution_count": null,
   "metadata": {
    "id": "Ig1BpMmmxaGB"
   },
   "outputs": [],
   "source": [
    "def check_role_overlap_entities(data):\n",
    "  all_roles = [role for d in data for role in d['Related_roles']]\n",
    "  role_counts = collections.Counter(all_roles)\n",
    "  duplicates = {role: count for role, count in role_counts.items() if count > 1}\n",
    "  return sum(duplicates.values())"
   ]
  },
  {
   "cell_type": "code",
   "execution_count": null,
   "metadata": {
    "colab": {
     "base_uri": "https://localhost:8080/"
    },
    "executionInfo": {
     "elapsed": 26,
     "status": "ok",
     "timestamp": 1705607684122,
     "user": {
      "displayName": "srikaran elakurthy",
      "userId": "10476685350926501647"
     },
     "user_tz": 300
    },
    "id": "evzGpAHfyYjC",
    "outputId": "a2647aee-205e-416b-db82-22d436dcf759"
   },
   "outputs": [
    {
     "data": {
      "text/plain": [
       "391"
      ]
     },
     "execution_count": 34,
     "metadata": {},
     "output_type": "execute_result"
    }
   ],
   "source": [
    "total_overlap_roles = 0\n",
    "for ele in annotated_data:\n",
    "  total_overlap_roles=total_overlap_roles+check_role_overlap_entities(ele['events_list'])\n",
    "total_overlap_roles"
   ]
  },
  {
   "cell_type": "code",
   "execution_count": null,
   "metadata": {
    "id": "bDwzkjcUWBZJ"
   },
   "outputs": [],
   "source": []
  },
  {
   "cell_type": "code",
   "execution_count": null,
   "metadata": {
    "id": "5q4UHIATVzlm"
   },
   "outputs": [],
   "source": []
  },
  {
   "cell_type": "markdown",
   "metadata": {
    "id": "z-IYfmfmzE55"
   },
   "source": [
    "\n",
    "\n",
    "1.   Is every role in a file is linked to at least one entity?\n",
    "2.  Does each enity in a file s linked to at least one event?\n",
    "3.  Does an entity occur only in 1 event or more?"
   ]
  },
  {
   "cell_type": "code",
   "execution_count": null,
   "metadata": {
    "colab": {
     "base_uri": "https://localhost:8080/"
    },
    "executionInfo": {
     "elapsed": 17,
     "status": "ok",
     "timestamp": 1705607684122,
     "user": {
      "displayName": "srikaran elakurthy",
      "userId": "10476685350926501647"
     },
     "user_tz": 300
    },
    "id": "_JKkvxxtzKe4",
    "outputId": "0ce50062-2ba5-453e-e7f2-e08c72ae81a5"
   },
   "outputs": [
    {
     "name": "stdout",
     "output_type": "stream",
     "text": [
      "Role_ids not present in related_roles: 18\n",
      "Entity_ids not present in events_list: 0\n",
      "Duplicate entity_ids in events_list: 0\n",
      "Files with missing roles: [{'file_name': '39_Consult-HistoryandPhy.-BipolarAffectiveDisorder-Consult_10', 'missing_roles': [[2, 'Method'], [3, 'Status']]}, {'file_name': '407_Consult-HistoryandPhy.-PediatricRheumatologyConsult_8', 'missing_roles': [[2, 'Status'], [3, 'Method']]}, {'file_name': '328_Consult-HistoryandPhy.-NeonatalConsult_9', 'missing_roles': [[17, 'Type'], [18, 'Amount']]}, {'file_name': '406_Consult-HistoryandPhy.-ParoxysmalAtrialFibrillation_10', 'missing_roles': [[2, 'Status'], [3, 'Type']]}, {'file_name': '470_Consult-HistoryandPhy.-Sleepiness-Consult_9', 'missing_roles': [[10, 'Type']]}, {'file_name': '81_Consult-HistoryandPhy.-Congestion-21-day-old_11', 'missing_roles': [[6, 'MedicalCondition']]}, {'file_name': '440_Consult-HistoryandPhy.-PsychH&P-2_8', 'missing_roles': [[35, 'Method']]}, {'file_name': '471_Consult-HistoryandPhy.-SmallBowelObstruction_10', 'missing_roles': [[7, 'Status']]}, {'file_name': '70_Consult-HistoryandPhy.-CholangiocarcinomaConsult_9', 'missing_roles': [[3, 'Temporal']]}, {'file_name': '288_Consult-HistoryandPhy.-KneeDJD-Consult_11', 'missing_roles': [[11, 'Temporal'], [12, 'Status']]}, {'file_name': '483_Consult-HistoryandPhy.-T-CellLymphomaConsult_7', 'missing_roles': [[30, 'Status']]}, {'file_name': '55_Consult-HistoryandPhy.-CardiacConsult&Cardioversion_8', 'missing_roles': [[3, 'Type']]}, {'file_name': '40_Consult-HistoryandPhy.-BladderCancer_9', 'missing_roles': [[16, 'Status']]}]\n",
      "Files with missing entities: []\n"
     ]
    }
   ],
   "source": [
    "def validation(ev_lst,ent_lst,rls_lst):\n",
    "  # Check if each role_id in role_list is present in related_roles in events_list\n",
    "  missing_roles = [[role['role_id'],role['entity_category']] for role in rls_lst if role['role_id'] not in [r_id for event in ev_lst for r_id in event['Related_roles']]]\n",
    "\n",
    "  # Check if each entity_id in entity_list is present in entity_id in events_list\n",
    "  missing_entities = [entity['entity_id'] for entity in ent_lst if entity['entity_id'] not in [event['entity_id'] for event in ev_lst]]\n",
    "\n",
    "  # Find if any entity_id in events_list occurs more than once\n",
    "  duplicate_entities = [item for item, count in collections.Counter([event['entity_id'] for event in ent_lst]).items() if count > 1]\n",
    "  return missing_roles,missing_entities,duplicate_entities\n",
    "\n",
    "missing_roles_cnt=0\n",
    "missing_entities_cnt=0\n",
    "duplicate_entities_cnt=0\n",
    "missing_roles_files=[]\n",
    "missing_entities_files=[]\n",
    "for ele in annotated_data:\n",
    "  ev_lst=ele['events_list']\n",
    "  ent_lst=ele['entity_list']\n",
    "  rls_lst=ele['role_list']\n",
    "  filen_nm=ele['file_name']\n",
    "  missing_roles,missing_entities,duplicate_entities=validation(ev_lst,ent_lst,rls_lst)\n",
    "  missing_roles_cnt=missing_roles_cnt+len(missing_roles)\n",
    "  missing_entities_cnt=missing_entities_cnt+len(missing_entities)\n",
    "  duplicate_entities_cnt=duplicate_entities_cnt+len(duplicate_entities)\n",
    "  if len(missing_roles)>0:\n",
    "    missing_roles_files.append({'file_name':filen_nm,'missing_roles':missing_roles})\n",
    "  if len(missing_entities)>0:\n",
    "    missing_entities_files.append({'file_name':filen_nm,'missing_entities':missing_entities})\n",
    "\n",
    "print(f\"Role_ids not present in related_roles: {missing_roles_cnt}\")\n",
    "print(f\"Entity_ids not present in events_list: {missing_entities_cnt}\")\n",
    "print(f\"Duplicate entity_ids in events_list: {duplicate_entities_cnt}\")\n",
    "print(f\"Files with missing roles: {missing_roles_files}\")\n",
    "print(f\"Files with missing entities: {missing_entities_files}\")"
   ]
  },
  {
   "cell_type": "code",
   "execution_count": null,
   "metadata": {
    "colab": {
     "base_uri": "https://localhost:8080/"
    },
    "executionInfo": {
     "elapsed": 11,
     "status": "ok",
     "timestamp": 1705607684122,
     "user": {
      "displayName": "srikaran elakurthy",
      "userId": "10476685350926501647"
     },
     "user_tz": 300
    },
    "id": "Ghyoccln217i",
    "outputId": "3b5261d9-84a2-4fed-cd9c-e029b9d2da1a"
   },
   "outputs": [
    {
     "data": {
      "text/plain": [
       "[{'file_name': '39_Consult-HistoryandPhy.-BipolarAffectiveDisorder-Consult_10',\n",
       "  'missing_roles': [[2, 'Method'], [3, 'Status']]},\n",
       " {'file_name': '407_Consult-HistoryandPhy.-PediatricRheumatologyConsult_8',\n",
       "  'missing_roles': [[2, 'Status'], [3, 'Method']]},\n",
       " {'file_name': '328_Consult-HistoryandPhy.-NeonatalConsult_9',\n",
       "  'missing_roles': [[17, 'Type'], [18, 'Amount']]},\n",
       " {'file_name': '406_Consult-HistoryandPhy.-ParoxysmalAtrialFibrillation_10',\n",
       "  'missing_roles': [[2, 'Status'], [3, 'Type']]},\n",
       " {'file_name': '470_Consult-HistoryandPhy.-Sleepiness-Consult_9',\n",
       "  'missing_roles': [[10, 'Type']]},\n",
       " {'file_name': '81_Consult-HistoryandPhy.-Congestion-21-day-old_11',\n",
       "  'missing_roles': [[6, 'MedicalCondition']]},\n",
       " {'file_name': '440_Consult-HistoryandPhy.-PsychH&P-2_8',\n",
       "  'missing_roles': [[35, 'Method']]},\n",
       " {'file_name': '471_Consult-HistoryandPhy.-SmallBowelObstruction_10',\n",
       "  'missing_roles': [[7, 'Status']]},\n",
       " {'file_name': '70_Consult-HistoryandPhy.-CholangiocarcinomaConsult_9',\n",
       "  'missing_roles': [[3, 'Temporal']]},\n",
       " {'file_name': '288_Consult-HistoryandPhy.-KneeDJD-Consult_11',\n",
       "  'missing_roles': [[11, 'Temporal'], [12, 'Status']]},\n",
       " {'file_name': '483_Consult-HistoryandPhy.-T-CellLymphomaConsult_7',\n",
       "  'missing_roles': [[30, 'Status']]},\n",
       " {'file_name': '55_Consult-HistoryandPhy.-CardiacConsult&Cardioversion_8',\n",
       "  'missing_roles': [[3, 'Type']]},\n",
       " {'file_name': '40_Consult-HistoryandPhy.-BladderCancer_9',\n",
       "  'missing_roles': [[16, 'Status']]}]"
      ]
     },
     "execution_count": 36,
     "metadata": {},
     "output_type": "execute_result"
    }
   ],
   "source": [
    "missing_roles_files"
   ]
  }
 ],
 "metadata": {
  "colab": {
   "authorship_tag": "ABX9TyOfmuhwkThYcXzIp3MtQDlY",
   "mount_file_id": "13HbzeyhxhYmMuMaROrbNILy0e4purSOh",
   "provenance": []
  },
  "kernelspec": {
   "display_name": "Python 3",
   "name": "python3"
  },
  "language_info": {
   "name": "python"
  }
 },
 "nbformat": 4,
 "nbformat_minor": 0
}
